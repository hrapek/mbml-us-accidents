{
 "cells": [
  {
   "cell_type": "code",
   "execution_count": null,
   "metadata": {},
   "outputs": [],
   "source": []
  },
  {
   "cell_type": "code",
   "execution_count": 74,
   "metadata": {},
   "outputs": [],
   "source": [
    "import numpy as np\n",
    "import pandas as pd\n",
    "from matplotlib import pyplot as plt\n",
    "from sklearn import linear_model\n",
    "import seaborn as sns\n",
    "import torch\n",
    "from typing import Tuple\n",
    "\n",
    "import pyro\n",
    "import pyro.distributions as dist\n",
    "from pyro.contrib.autoguide import AutoDiagonalNormal, AutoMultivariateNormal\n",
    "from pyro.infer import MCMC, NUTS, HMC, SVI, Trace_ELBO\n",
    "from pyro.optim import Adam, ClippedAdam\n",
    "import itertools\n",
    "palette = itertools.cycle(sns.color_palette())\n",
    "\n",
    "# fix random generator seed (for reproducibility of results)\n",
    "np.random.seed(42)\n",
    "\n",
    "# matplotlib style options\n",
    "plt.style.use('ggplot')\n",
    "%matplotlib inline\n",
    "plt.rcParams['figure.figsize'] = (10, 6)\n",
    "\n",
    "from sklearn.metrics import (\n",
    "    accuracy_score,\n",
    "    precision_score,\n",
    "    recall_score,\n",
    "    f1_score,\n",
    "    roc_auc_score,\n",
    "    confusion_matrix,\n",
    "    roc_curve,\n",
    ")"
   ]
  },
  {
   "cell_type": "markdown",
   "metadata": {},
   "source": [
    "## 1. Initial Processing"
   ]
  },
  {
   "cell_type": "code",
   "execution_count": 2,
   "metadata": {},
   "outputs": [],
   "source": [
    "# Set your own path\n",
    "path = 'data/CA_final.csv'\n",
    "\n",
    "df = pd.read_csv(path)\n",
    "df.head()"
   ]
  },
  {
   "cell_type": "code",
   "execution_count": 4,
   "metadata": {},
   "outputs": [
    {
     "data": {
      "text/plain": [
       "1741433"
      ]
     },
     "execution_count": 4,
     "metadata": {},
     "output_type": "execute_result"
    }
   ],
   "source": [
    "len(df)"
   ]
  },
  {
   "cell_type": "markdown",
   "metadata": {},
   "source": [
    "We've got 1.7M accident records in CA."
   ]
  },
  {
   "cell_type": "code",
   "execution_count": 5,
   "metadata": {},
   "outputs": [
    {
     "data": {
      "text/plain": [
       "Year\n",
       "2016    140452\n",
       "2017    152748\n",
       "2018    156898\n",
       "2019    213455\n",
       "2020    285532\n",
       "2021    341876\n",
       "2022    375913\n",
       "2023     74559\n",
       "Name: ID, dtype: int64"
      ]
     },
     "execution_count": 5,
     "metadata": {},
     "output_type": "execute_result"
    }
   ],
   "source": [
    "df.groupby('Year')['ID'].size()"
   ]
  },
  {
   "cell_type": "code",
   "execution_count": 7,
   "metadata": {},
   "outputs": [
    {
     "data": {
      "text/html": [
       "<div>\n",
       "<style scoped>\n",
       "    .dataframe tbody tr th:only-of-type {\n",
       "        vertical-align: middle;\n",
       "    }\n",
       "\n",
       "    .dataframe tbody tr th {\n",
       "        vertical-align: top;\n",
       "    }\n",
       "\n",
       "    .dataframe thead th {\n",
       "        text-align: right;\n",
       "    }\n",
       "</style>\n",
       "<table border=\"1\" class=\"dataframe\">\n",
       "  <thead>\n",
       "    <tr style=\"text-align: right;\">\n",
       "      <th></th>\n",
       "      <th>ID</th>\n",
       "      <th>Source</th>\n",
       "      <th>Severity</th>\n",
       "      <th>Start_Time</th>\n",
       "      <th>End_Time</th>\n",
       "      <th>Start_Lat</th>\n",
       "      <th>Start_Lng</th>\n",
       "      <th>End_Lat</th>\n",
       "      <th>End_Lng</th>\n",
       "      <th>Distance(mi)</th>\n",
       "      <th>...</th>\n",
       "      <th>Hour</th>\n",
       "      <th>Minute</th>\n",
       "      <th>Wind_Speed(mph)_Imputed</th>\n",
       "      <th>Humidity(%)_Imputed</th>\n",
       "      <th>Temperature(F)_Imputed</th>\n",
       "      <th>Visibility(mi)_Imputed</th>\n",
       "      <th>Pressure(in)_Imputed</th>\n",
       "      <th>geohash4</th>\n",
       "      <th>Wind_Direction_Imputed</th>\n",
       "      <th>Weather_Condition_Imputed</th>\n",
       "    </tr>\n",
       "  </thead>\n",
       "  <tbody>\n",
       "    <tr>\n",
       "      <th>175167</th>\n",
       "      <td>A-512231</td>\n",
       "      <td>Source2</td>\n",
       "      <td>1</td>\n",
       "      <td>2022-09-08 02:02:05</td>\n",
       "      <td>2022-09-08 04:31:32</td>\n",
       "      <td>34.521172</td>\n",
       "      <td>-117.958076</td>\n",
       "      <td>NaN</td>\n",
       "      <td>NaN</td>\n",
       "      <td>0.0</td>\n",
       "      <td>...</td>\n",
       "      <td>2</td>\n",
       "      <td>2</td>\n",
       "      <td>6.0</td>\n",
       "      <td>28.0</td>\n",
       "      <td>86.0</td>\n",
       "      <td>10.0</td>\n",
       "      <td>27.35</td>\n",
       "      <td>9qhh</td>\n",
       "      <td>E</td>\n",
       "      <td>Thunderstorms and Rain</td>\n",
       "    </tr>\n",
       "    <tr>\n",
       "      <th>175168</th>\n",
       "      <td>A-512257</td>\n",
       "      <td>Source2</td>\n",
       "      <td>1</td>\n",
       "      <td>2022-09-08 02:02:58</td>\n",
       "      <td>2022-09-08 02:32:20</td>\n",
       "      <td>34.177322</td>\n",
       "      <td>-118.877014</td>\n",
       "      <td>NaN</td>\n",
       "      <td>NaN</td>\n",
       "      <td>0.0</td>\n",
       "      <td>...</td>\n",
       "      <td>2</td>\n",
       "      <td>2</td>\n",
       "      <td>3.0</td>\n",
       "      <td>87.0</td>\n",
       "      <td>68.0</td>\n",
       "      <td>9.0</td>\n",
       "      <td>29.78</td>\n",
       "      <td>9q56</td>\n",
       "      <td>WNW</td>\n",
       "      <td>Thunderstorms and Rain</td>\n",
       "    </tr>\n",
       "    <tr>\n",
       "      <th>175169</th>\n",
       "      <td>A-512277</td>\n",
       "      <td>Source2</td>\n",
       "      <td>3</td>\n",
       "      <td>2022-09-07 21:54:19</td>\n",
       "      <td>2022-09-07 22:38:20</td>\n",
       "      <td>38.593945</td>\n",
       "      <td>-121.504059</td>\n",
       "      <td>NaN</td>\n",
       "      <td>NaN</td>\n",
       "      <td>0.0</td>\n",
       "      <td>...</td>\n",
       "      <td>21</td>\n",
       "      <td>54</td>\n",
       "      <td>0.0</td>\n",
       "      <td>28.0</td>\n",
       "      <td>83.0</td>\n",
       "      <td>10.0</td>\n",
       "      <td>29.83</td>\n",
       "      <td>9qce</td>\n",
       "      <td>VAR</td>\n",
       "      <td>Thunderstorms and Rain</td>\n",
       "    </tr>\n",
       "    <tr>\n",
       "      <th>175170</th>\n",
       "      <td>A-512340</td>\n",
       "      <td>Source2</td>\n",
       "      <td>2</td>\n",
       "      <td>2022-09-08 02:03:43</td>\n",
       "      <td>2022-09-08 02:33:13</td>\n",
       "      <td>33.850147</td>\n",
       "      <td>-117.875938</td>\n",
       "      <td>NaN</td>\n",
       "      <td>NaN</td>\n",
       "      <td>0.0</td>\n",
       "      <td>...</td>\n",
       "      <td>2</td>\n",
       "      <td>3</td>\n",
       "      <td>0.0</td>\n",
       "      <td>66.0</td>\n",
       "      <td>79.0</td>\n",
       "      <td>10.0</td>\n",
       "      <td>29.76</td>\n",
       "      <td>9qh0</td>\n",
       "      <td>VAR</td>\n",
       "      <td>Thunderstorms and Rain</td>\n",
       "    </tr>\n",
       "    <tr>\n",
       "      <th>175171</th>\n",
       "      <td>A-512341</td>\n",
       "      <td>Source3</td>\n",
       "      <td>1</td>\n",
       "      <td>2022-09-08 02:30:59</td>\n",
       "      <td>2022-09-08 03:00:27</td>\n",
       "      <td>33.884056</td>\n",
       "      <td>-118.029007</td>\n",
       "      <td>NaN</td>\n",
       "      <td>NaN</td>\n",
       "      <td>0.0</td>\n",
       "      <td>...</td>\n",
       "      <td>2</td>\n",
       "      <td>30</td>\n",
       "      <td>0.0</td>\n",
       "      <td>66.0</td>\n",
       "      <td>78.0</td>\n",
       "      <td>10.0</td>\n",
       "      <td>29.74</td>\n",
       "      <td>9qh0</td>\n",
       "      <td>VAR</td>\n",
       "      <td>Thunderstorms and Rain</td>\n",
       "    </tr>\n",
       "  </tbody>\n",
       "</table>\n",
       "<p>5 rows × 61 columns</p>\n",
       "</div>"
      ],
      "text/plain": [
       "              ID   Source  Severity           Start_Time             End_Time  \\\n",
       "175167  A-512231  Source2         1  2022-09-08 02:02:05  2022-09-08 04:31:32   \n",
       "175168  A-512257  Source2         1  2022-09-08 02:02:58  2022-09-08 02:32:20   \n",
       "175169  A-512277  Source2         3  2022-09-07 21:54:19  2022-09-07 22:38:20   \n",
       "175170  A-512340  Source2         2  2022-09-08 02:03:43  2022-09-08 02:33:13   \n",
       "175171  A-512341  Source3         1  2022-09-08 02:30:59  2022-09-08 03:00:27   \n",
       "\n",
       "        Start_Lat   Start_Lng  End_Lat  End_Lng  Distance(mi)  ... Hour  \\\n",
       "175167  34.521172 -117.958076      NaN      NaN           0.0  ...    2   \n",
       "175168  34.177322 -118.877014      NaN      NaN           0.0  ...    2   \n",
       "175169  38.593945 -121.504059      NaN      NaN           0.0  ...   21   \n",
       "175170  33.850147 -117.875938      NaN      NaN           0.0  ...    2   \n",
       "175171  33.884056 -118.029007      NaN      NaN           0.0  ...    2   \n",
       "\n",
       "       Minute Wind_Speed(mph)_Imputed Humidity(%)_Imputed  \\\n",
       "175167      2                     6.0                28.0   \n",
       "175168      2                     3.0                87.0   \n",
       "175169     54                     0.0                28.0   \n",
       "175170      3                     0.0                66.0   \n",
       "175171     30                     0.0                66.0   \n",
       "\n",
       "       Temperature(F)_Imputed Visibility(mi)_Imputed Pressure(in)_Imputed  \\\n",
       "175167                   86.0                   10.0                27.35   \n",
       "175168                   68.0                    9.0                29.78   \n",
       "175169                   83.0                   10.0                29.83   \n",
       "175170                   79.0                   10.0                29.76   \n",
       "175171                   78.0                   10.0                29.74   \n",
       "\n",
       "       geohash4 Wind_Direction_Imputed Weather_Condition_Imputed  \n",
       "175167     9qhh                      E    Thunderstorms and Rain  \n",
       "175168     9q56                    WNW    Thunderstorms and Rain  \n",
       "175169     9qce                    VAR    Thunderstorms and Rain  \n",
       "175170     9qh0                    VAR    Thunderstorms and Rain  \n",
       "175171     9qh0                    VAR    Thunderstorms and Rain  \n",
       "\n",
       "[5 rows x 61 columns]"
      ]
     },
     "execution_count": 7,
     "metadata": {},
     "output_type": "execute_result"
    }
   ],
   "source": [
    "df_2022 = df[df['Year'] == 2022]\n",
    "df_2022.head()"
   ]
  },
  {
   "cell_type": "code",
   "execution_count": 8,
   "metadata": {},
   "outputs": [
    {
     "data": {
      "text/plain": [
       "('2022-01-01 00:02:00', '2022-12-31 23:59:00')"
      ]
     },
     "execution_count": 8,
     "metadata": {},
     "output_type": "execute_result"
    }
   ],
   "source": [
    "df_2022['Start_Time'].min(), df_2022['Start_Time'].max()"
   ]
  },
  {
   "cell_type": "code",
   "execution_count": 11,
   "metadata": {},
   "outputs": [],
   "source": [
    "# Saving data for 2022 to lighten memory.\n",
    "save_path = 'data/data_2022.csv'\n",
    "df_2022.to_csv(save_path)"
   ]
  },
  {
   "cell_type": "markdown",
   "metadata": {},
   "source": [
    "If you have already saved data for 2022 start here"
   ]
  },
  {
   "cell_type": "code",
   "execution_count": 3,
   "metadata": {},
   "outputs": [],
   "source": [
    "# Load 2022 data\n",
    "load_path = 'data/data_2022.csv'\n",
    "df = pd.read_csv(load_path)"
   ]
  },
  {
   "cell_type": "code",
   "execution_count": 4,
   "metadata": {},
   "outputs": [
    {
     "data": {
      "text/plain": [
       "375913"
      ]
     },
     "execution_count": 4,
     "metadata": {},
     "output_type": "execute_result"
    }
   ],
   "source": [
    "len(df)"
   ]
  },
  {
   "cell_type": "code",
   "execution_count": 16,
   "metadata": {},
   "outputs": [],
   "source": [
    "df['Start_Time'] = pd.to_datetime(df['Start_Time'])"
   ]
  },
  {
   "cell_type": "code",
   "execution_count": 5,
   "metadata": {},
   "outputs": [
    {
     "name": "stderr",
     "output_type": "stream",
     "text": [
      "C:\\Users\\balda\\AppData\\Local\\Temp\\ipykernel_20292\\2312101316.py:4: FutureWarning: 'H' is deprecated and will be removed in a future version, please use 'h' instead.\n",
      "  hourly_range = pd.date_range(start=start_time, end=end_time, freq='H')\n"
     ]
    }
   ],
   "source": [
    "# Creating a time range with index representing consecutive hours in 2022\n",
    "start_time = pd.Timestamp('2022-01-01 00:00:00')\n",
    "end_time = pd.Timestamp('2022-12-31 23:00:00')\n",
    "hourly_range = pd.date_range(start=start_time, end=end_time, freq='H')\n",
    "hourly_df = pd.DataFrame(hourly_range, columns=['hour'])\n",
    "hourly_df['hour_index'] = range(1, len(hourly_range) + 1)\n"
   ]
  },
  {
   "cell_type": "code",
   "execution_count": 6,
   "metadata": {},
   "outputs": [
    {
     "data": {
      "text/html": [
       "<div>\n",
       "<style scoped>\n",
       "    .dataframe tbody tr th:only-of-type {\n",
       "        vertical-align: middle;\n",
       "    }\n",
       "\n",
       "    .dataframe tbody tr th {\n",
       "        vertical-align: top;\n",
       "    }\n",
       "\n",
       "    .dataframe thead th {\n",
       "        text-align: right;\n",
       "    }\n",
       "</style>\n",
       "<table border=\"1\" class=\"dataframe\">\n",
       "  <thead>\n",
       "    <tr style=\"text-align: right;\">\n",
       "      <th></th>\n",
       "      <th>hour</th>\n",
       "      <th>hour_index</th>\n",
       "    </tr>\n",
       "  </thead>\n",
       "  <tbody>\n",
       "    <tr>\n",
       "      <th>0</th>\n",
       "      <td>2022-01-01 00:00:00</td>\n",
       "      <td>1</td>\n",
       "    </tr>\n",
       "    <tr>\n",
       "      <th>1</th>\n",
       "      <td>2022-01-01 01:00:00</td>\n",
       "      <td>2</td>\n",
       "    </tr>\n",
       "    <tr>\n",
       "      <th>2</th>\n",
       "      <td>2022-01-01 02:00:00</td>\n",
       "      <td>3</td>\n",
       "    </tr>\n",
       "    <tr>\n",
       "      <th>3</th>\n",
       "      <td>2022-01-01 03:00:00</td>\n",
       "      <td>4</td>\n",
       "    </tr>\n",
       "    <tr>\n",
       "      <th>4</th>\n",
       "      <td>2022-01-01 04:00:00</td>\n",
       "      <td>5</td>\n",
       "    </tr>\n",
       "  </tbody>\n",
       "</table>\n",
       "</div>"
      ],
      "text/plain": [
       "                 hour  hour_index\n",
       "0 2022-01-01 00:00:00           1\n",
       "1 2022-01-01 01:00:00           2\n",
       "2 2022-01-01 02:00:00           3\n",
       "3 2022-01-01 03:00:00           4\n",
       "4 2022-01-01 04:00:00           5"
      ]
     },
     "execution_count": 6,
     "metadata": {},
     "output_type": "execute_result"
    }
   ],
   "source": [
    "hourly_df.head()"
   ]
  },
  {
   "cell_type": "code",
   "execution_count": 24,
   "metadata": {},
   "outputs": [
    {
     "data": {
      "text/plain": [
       "8760"
      ]
     },
     "execution_count": 24,
     "metadata": {},
     "output_type": "execute_result"
    }
   ],
   "source": [
    "len(hourly_df)"
   ]
  },
  {
   "cell_type": "code",
   "execution_count": 7,
   "metadata": {},
   "outputs": [],
   "source": [
    "geohashes = df['geohash5'].unique()\n",
    "multi_index = pd.MultiIndex.from_product([hourly_range, geohashes], names=['hour', 'geohash5'])\n",
    "multi_index_df = pd.DataFrame(index=multi_index).reset_index()"
   ]
  },
  {
   "cell_type": "code",
   "execution_count": 8,
   "metadata": {},
   "outputs": [
    {
     "data": {
      "text/html": [
       "<div>\n",
       "<style scoped>\n",
       "    .dataframe tbody tr th:only-of-type {\n",
       "        vertical-align: middle;\n",
       "    }\n",
       "\n",
       "    .dataframe tbody tr th {\n",
       "        vertical-align: top;\n",
       "    }\n",
       "\n",
       "    .dataframe thead th {\n",
       "        text-align: right;\n",
       "    }\n",
       "</style>\n",
       "<table border=\"1\" class=\"dataframe\">\n",
       "  <thead>\n",
       "    <tr style=\"text-align: right;\">\n",
       "      <th></th>\n",
       "      <th>hour</th>\n",
       "      <th>geohash5</th>\n",
       "    </tr>\n",
       "  </thead>\n",
       "  <tbody>\n",
       "    <tr>\n",
       "      <th>0</th>\n",
       "      <td>2022-01-01</td>\n",
       "      <td>9qhh7</td>\n",
       "    </tr>\n",
       "    <tr>\n",
       "      <th>1</th>\n",
       "      <td>2022-01-01</td>\n",
       "      <td>9q56q</td>\n",
       "    </tr>\n",
       "    <tr>\n",
       "      <th>2</th>\n",
       "      <td>2022-01-01</td>\n",
       "      <td>9qcee</td>\n",
       "    </tr>\n",
       "    <tr>\n",
       "      <th>3</th>\n",
       "      <td>2022-01-01</td>\n",
       "      <td>9qh0t</td>\n",
       "    </tr>\n",
       "    <tr>\n",
       "      <th>4</th>\n",
       "      <td>2022-01-01</td>\n",
       "      <td>9qh0f</td>\n",
       "    </tr>\n",
       "  </tbody>\n",
       "</table>\n",
       "</div>"
      ],
      "text/plain": [
       "        hour geohash5\n",
       "0 2022-01-01    9qhh7\n",
       "1 2022-01-01    9q56q\n",
       "2 2022-01-01    9qcee\n",
       "3 2022-01-01    9qh0t\n",
       "4 2022-01-01    9qh0f"
      ]
     },
     "execution_count": 8,
     "metadata": {},
     "output_type": "execute_result"
    }
   ],
   "source": [
    "multi_index_df.head()"
   ]
  },
  {
   "cell_type": "code",
   "execution_count": 57,
   "metadata": {},
   "outputs": [
    {
     "name": "stderr",
     "output_type": "stream",
     "text": [
      "C:\\Users\\balda\\AppData\\Local\\Temp\\ipykernel_20292\\3631858385.py:2: FutureWarning: 'H' is deprecated and will be removed in a future version, please use 'h' instead.\n",
      "  accident_counts = df.groupby([pd.Grouper(key='Start_Time', freq='H'), 'geohash5']).size().reset_index(name='accident_count')\n"
     ]
    }
   ],
   "source": [
    "# Step 6: Count accidents per hour and geohash\n",
    "accident_counts = df.groupby([pd.Grouper(key='Start_Time', freq='H'), 'geohash5']).size().reset_index(name='accident_count')\n",
    "\n",
    "# Step 7: Merge the multi-index DataFrame with the accident counts\n",
    "merged_df = pd.merge(multi_index_df, accident_counts, how='left', left_on=['hour', 'geohash5'], right_on=['Start_Time', 'geohash5'])"
   ]
  },
  {
   "cell_type": "markdown",
   "metadata": {},
   "source": [
    "Let's add one_hot_encoded features for hour of the day and day of the week."
   ]
  },
  {
   "cell_type": "code",
   "execution_count": 58,
   "metadata": {},
   "outputs": [
    {
     "name": "stdout",
     "output_type": "stream",
     "text": [
      "                        hour geohash5  accident_count  hour_of_day  \\\n",
      "0        2022-01-01 00:00:00    9qhh7             0.0            0   \n",
      "1        2022-01-01 00:00:00    9q56q             1.0            0   \n",
      "2        2022-01-01 00:00:00    9qcee             0.0            0   \n",
      "3        2022-01-01 00:00:00    9qh0t             0.0            0   \n",
      "4        2022-01-01 00:00:00    9qh0f             0.0            0   \n",
      "...                      ...      ...             ...          ...   \n",
      "63448675 2022-12-31 23:00:00    9r4rr             0.0           23   \n",
      "63448676 2022-12-31 23:00:00    9r354             0.0           23   \n",
      "63448677 2022-12-31 23:00:00    9r3q8             0.0           23   \n",
      "63448678 2022-12-31 23:00:00    9r4n7             0.0           23   \n",
      "63448679 2022-12-31 23:00:00    9r0wf             0.0           23   \n",
      "\n",
      "          day_of_week  hour_0  hour_1  hour_2  hour_3  hour_4  ...  hour_21  \\\n",
      "0                   5    True   False   False   False   False  ...    False   \n",
      "1                   5    True   False   False   False   False  ...    False   \n",
      "2                   5    True   False   False   False   False  ...    False   \n",
      "3                   5    True   False   False   False   False  ...    False   \n",
      "4                   5    True   False   False   False   False  ...    False   \n",
      "...               ...     ...     ...     ...     ...     ...  ...      ...   \n",
      "63448675            5   False   False   False   False   False  ...    False   \n",
      "63448676            5   False   False   False   False   False  ...    False   \n",
      "63448677            5   False   False   False   False   False  ...    False   \n",
      "63448678            5   False   False   False   False   False  ...    False   \n",
      "63448679            5   False   False   False   False   False  ...    False   \n",
      "\n",
      "          hour_22  hour_23  day_0  day_1  day_2  day_3  day_4  day_5  day_6  \n",
      "0           False    False  False  False  False  False  False   True  False  \n",
      "1           False    False  False  False  False  False  False   True  False  \n",
      "2           False    False  False  False  False  False  False   True  False  \n",
      "3           False    False  False  False  False  False  False   True  False  \n",
      "4           False    False  False  False  False  False  False   True  False  \n",
      "...           ...      ...    ...    ...    ...    ...    ...    ...    ...  \n",
      "63448675    False     True  False  False  False  False  False   True  False  \n",
      "63448676    False     True  False  False  False  False  False   True  False  \n",
      "63448677    False     True  False  False  False  False  False   True  False  \n",
      "63448678    False     True  False  False  False  False  False   True  False  \n",
      "63448679    False     True  False  False  False  False  False   True  False  \n",
      "\n",
      "[63448680 rows x 36 columns]\n"
     ]
    }
   ],
   "source": [
    "merged_df = merged_df.drop(columns=['Start_Time']).fillna(value=0)\n",
    "\n",
    "# Assuming 'df' is your DataFrame with the structure you provided\n",
    "# If not already in datetime format, ensure 'hour' is in datetime format\n",
    "merged_df['hour'] = pd.to_datetime(merged_df['hour'])\n",
    "\n",
    "# Step 1: Extract hour of the day and day of the week\n",
    "merged_df['hour_of_day'] = merged_df['hour'].dt.hour\n",
    "merged_df['day_of_week'] = merged_df['hour'].dt.dayofweek  # Monday=0, Sunday=6\n",
    "\n",
    "# Step 2: Generate one-hot encoded columns\n",
    "hour_dummies = pd.get_dummies(merged_df['hour_of_day'], prefix='hour')\n",
    "day_dummies = pd.get_dummies(merged_df['day_of_week'], prefix='day')\n",
    "\n",
    "# Step 3: Concatenate these new columns to the original DataFrame\n",
    "merged_df = pd.concat([merged_df, hour_dummies, day_dummies], axis=1)\n",
    "\n",
    "# Display the final DataFrame\n",
    "print(merged_df)"
   ]
  },
  {
   "cell_type": "markdown",
   "metadata": {},
   "source": [
    "There's a lot of hashes and a lot of hours so let's take just one hash for now and try to model it. Going for hash `9q5cw` - one with the most accidents in 2022."
   ]
  },
  {
   "cell_type": "code",
   "execution_count": 180,
   "metadata": {},
   "outputs": [],
   "source": [
    "merged_df.to_csv('data/merged_df.csv')"
   ]
  },
  {
   "cell_type": "code",
   "execution_count": 2,
   "metadata": {},
   "outputs": [],
   "source": [
    "merged_df = pd.read_csv('data/merged_df.csv', index_col=[0])"
   ]
  },
  {
   "cell_type": "code",
   "execution_count": 21,
   "metadata": {},
   "outputs": [],
   "source": [
    "one_hash_df = merged_df[merged_df['geohash5'] == '9q5cw']"
   ]
  },
  {
   "cell_type": "code",
   "execution_count": 22,
   "metadata": {},
   "outputs": [
    {
     "name": "stderr",
     "output_type": "stream",
     "text": [
      "C:\\Users\\balda\\AppData\\Local\\Temp\\ipykernel_35152\\2651838735.py:1: SettingWithCopyWarning: \n",
      "A value is trying to be set on a copy of a slice from a DataFrame.\n",
      "Try using .loc[row_indexer,col_indexer] = value instead\n",
      "\n",
      "See the caveats in the documentation: https://pandas.pydata.org/pandas-docs/stable/user_guide/indexing.html#returning-a-view-versus-a-copy\n",
      "  one_hash_df['accident_bool'] = (one_hash_df['accident_count'] > 0)\n"
     ]
    }
   ],
   "source": [
    "one_hash_df['accident_bool'] = (one_hash_df['accident_count'] > 0)"
   ]
  },
  {
   "cell_type": "code",
   "execution_count": 23,
   "metadata": {},
   "outputs": [
    {
     "data": {
      "text/html": [
       "<div>\n",
       "<style scoped>\n",
       "    .dataframe tbody tr th:only-of-type {\n",
       "        vertical-align: middle;\n",
       "    }\n",
       "\n",
       "    .dataframe tbody tr th {\n",
       "        vertical-align: top;\n",
       "    }\n",
       "\n",
       "    .dataframe thead th {\n",
       "        text-align: right;\n",
       "    }\n",
       "</style>\n",
       "<table border=\"1\" class=\"dataframe\">\n",
       "  <thead>\n",
       "    <tr style=\"text-align: right;\">\n",
       "      <th></th>\n",
       "      <th>hour</th>\n",
       "      <th>geohash5</th>\n",
       "      <th>accident_count</th>\n",
       "      <th>hour_of_day</th>\n",
       "      <th>day_of_week</th>\n",
       "      <th>hour_0</th>\n",
       "      <th>hour_1</th>\n",
       "      <th>hour_2</th>\n",
       "      <th>hour_3</th>\n",
       "      <th>hour_4</th>\n",
       "      <th>...</th>\n",
       "      <th>hour_22</th>\n",
       "      <th>hour_23</th>\n",
       "      <th>day_0</th>\n",
       "      <th>day_1</th>\n",
       "      <th>day_2</th>\n",
       "      <th>day_3</th>\n",
       "      <th>day_4</th>\n",
       "      <th>day_5</th>\n",
       "      <th>day_6</th>\n",
       "      <th>accident_bool</th>\n",
       "    </tr>\n",
       "  </thead>\n",
       "  <tbody>\n",
       "    <tr>\n",
       "      <th>116</th>\n",
       "      <td>2022-01-01</td>\n",
       "      <td>9q5cw</td>\n",
       "      <td>0.0</td>\n",
       "      <td>0</td>\n",
       "      <td>5</td>\n",
       "      <td>True</td>\n",
       "      <td>False</td>\n",
       "      <td>False</td>\n",
       "      <td>False</td>\n",
       "      <td>False</td>\n",
       "      <td>...</td>\n",
       "      <td>False</td>\n",
       "      <td>False</td>\n",
       "      <td>False</td>\n",
       "      <td>False</td>\n",
       "      <td>False</td>\n",
       "      <td>False</td>\n",
       "      <td>False</td>\n",
       "      <td>True</td>\n",
       "      <td>False</td>\n",
       "      <td>False</td>\n",
       "    </tr>\n",
       "    <tr>\n",
       "      <th>7359</th>\n",
       "      <td>2022-01-01 01:00:00</td>\n",
       "      <td>9q5cw</td>\n",
       "      <td>0.0</td>\n",
       "      <td>1</td>\n",
       "      <td>5</td>\n",
       "      <td>False</td>\n",
       "      <td>True</td>\n",
       "      <td>False</td>\n",
       "      <td>False</td>\n",
       "      <td>False</td>\n",
       "      <td>...</td>\n",
       "      <td>False</td>\n",
       "      <td>False</td>\n",
       "      <td>False</td>\n",
       "      <td>False</td>\n",
       "      <td>False</td>\n",
       "      <td>False</td>\n",
       "      <td>False</td>\n",
       "      <td>True</td>\n",
       "      <td>False</td>\n",
       "      <td>False</td>\n",
       "    </tr>\n",
       "    <tr>\n",
       "      <th>14602</th>\n",
       "      <td>2022-01-01 02:00:00</td>\n",
       "      <td>9q5cw</td>\n",
       "      <td>0.0</td>\n",
       "      <td>2</td>\n",
       "      <td>5</td>\n",
       "      <td>False</td>\n",
       "      <td>False</td>\n",
       "      <td>True</td>\n",
       "      <td>False</td>\n",
       "      <td>False</td>\n",
       "      <td>...</td>\n",
       "      <td>False</td>\n",
       "      <td>False</td>\n",
       "      <td>False</td>\n",
       "      <td>False</td>\n",
       "      <td>False</td>\n",
       "      <td>False</td>\n",
       "      <td>False</td>\n",
       "      <td>True</td>\n",
       "      <td>False</td>\n",
       "      <td>False</td>\n",
       "    </tr>\n",
       "    <tr>\n",
       "      <th>21845</th>\n",
       "      <td>2022-01-01 03:00:00</td>\n",
       "      <td>9q5cw</td>\n",
       "      <td>2.0</td>\n",
       "      <td>3</td>\n",
       "      <td>5</td>\n",
       "      <td>False</td>\n",
       "      <td>False</td>\n",
       "      <td>False</td>\n",
       "      <td>True</td>\n",
       "      <td>False</td>\n",
       "      <td>...</td>\n",
       "      <td>False</td>\n",
       "      <td>False</td>\n",
       "      <td>False</td>\n",
       "      <td>False</td>\n",
       "      <td>False</td>\n",
       "      <td>False</td>\n",
       "      <td>False</td>\n",
       "      <td>True</td>\n",
       "      <td>False</td>\n",
       "      <td>True</td>\n",
       "    </tr>\n",
       "    <tr>\n",
       "      <th>29088</th>\n",
       "      <td>2022-01-01 04:00:00</td>\n",
       "      <td>9q5cw</td>\n",
       "      <td>0.0</td>\n",
       "      <td>4</td>\n",
       "      <td>5</td>\n",
       "      <td>False</td>\n",
       "      <td>False</td>\n",
       "      <td>False</td>\n",
       "      <td>False</td>\n",
       "      <td>True</td>\n",
       "      <td>...</td>\n",
       "      <td>False</td>\n",
       "      <td>False</td>\n",
       "      <td>False</td>\n",
       "      <td>False</td>\n",
       "      <td>False</td>\n",
       "      <td>False</td>\n",
       "      <td>False</td>\n",
       "      <td>True</td>\n",
       "      <td>False</td>\n",
       "      <td>False</td>\n",
       "    </tr>\n",
       "    <tr>\n",
       "      <th>...</th>\n",
       "      <td>...</td>\n",
       "      <td>...</td>\n",
       "      <td>...</td>\n",
       "      <td>...</td>\n",
       "      <td>...</td>\n",
       "      <td>...</td>\n",
       "      <td>...</td>\n",
       "      <td>...</td>\n",
       "      <td>...</td>\n",
       "      <td>...</td>\n",
       "      <td>...</td>\n",
       "      <td>...</td>\n",
       "      <td>...</td>\n",
       "      <td>...</td>\n",
       "      <td>...</td>\n",
       "      <td>...</td>\n",
       "      <td>...</td>\n",
       "      <td>...</td>\n",
       "      <td>...</td>\n",
       "      <td>...</td>\n",
       "      <td>...</td>\n",
       "    </tr>\n",
       "    <tr>\n",
       "      <th>63412581</th>\n",
       "      <td>2022-12-31 19:00:00</td>\n",
       "      <td>9q5cw</td>\n",
       "      <td>4.0</td>\n",
       "      <td>19</td>\n",
       "      <td>5</td>\n",
       "      <td>False</td>\n",
       "      <td>False</td>\n",
       "      <td>False</td>\n",
       "      <td>False</td>\n",
       "      <td>False</td>\n",
       "      <td>...</td>\n",
       "      <td>False</td>\n",
       "      <td>False</td>\n",
       "      <td>False</td>\n",
       "      <td>False</td>\n",
       "      <td>False</td>\n",
       "      <td>False</td>\n",
       "      <td>False</td>\n",
       "      <td>True</td>\n",
       "      <td>False</td>\n",
       "      <td>True</td>\n",
       "    </tr>\n",
       "    <tr>\n",
       "      <th>63419824</th>\n",
       "      <td>2022-12-31 20:00:00</td>\n",
       "      <td>9q5cw</td>\n",
       "      <td>3.0</td>\n",
       "      <td>20</td>\n",
       "      <td>5</td>\n",
       "      <td>False</td>\n",
       "      <td>False</td>\n",
       "      <td>False</td>\n",
       "      <td>False</td>\n",
       "      <td>False</td>\n",
       "      <td>...</td>\n",
       "      <td>False</td>\n",
       "      <td>False</td>\n",
       "      <td>False</td>\n",
       "      <td>False</td>\n",
       "      <td>False</td>\n",
       "      <td>False</td>\n",
       "      <td>False</td>\n",
       "      <td>True</td>\n",
       "      <td>False</td>\n",
       "      <td>True</td>\n",
       "    </tr>\n",
       "    <tr>\n",
       "      <th>63427067</th>\n",
       "      <td>2022-12-31 21:00:00</td>\n",
       "      <td>9q5cw</td>\n",
       "      <td>0.0</td>\n",
       "      <td>21</td>\n",
       "      <td>5</td>\n",
       "      <td>False</td>\n",
       "      <td>False</td>\n",
       "      <td>False</td>\n",
       "      <td>False</td>\n",
       "      <td>False</td>\n",
       "      <td>...</td>\n",
       "      <td>False</td>\n",
       "      <td>False</td>\n",
       "      <td>False</td>\n",
       "      <td>False</td>\n",
       "      <td>False</td>\n",
       "      <td>False</td>\n",
       "      <td>False</td>\n",
       "      <td>True</td>\n",
       "      <td>False</td>\n",
       "      <td>False</td>\n",
       "    </tr>\n",
       "    <tr>\n",
       "      <th>63434310</th>\n",
       "      <td>2022-12-31 22:00:00</td>\n",
       "      <td>9q5cw</td>\n",
       "      <td>7.0</td>\n",
       "      <td>22</td>\n",
       "      <td>5</td>\n",
       "      <td>False</td>\n",
       "      <td>False</td>\n",
       "      <td>False</td>\n",
       "      <td>False</td>\n",
       "      <td>False</td>\n",
       "      <td>...</td>\n",
       "      <td>True</td>\n",
       "      <td>False</td>\n",
       "      <td>False</td>\n",
       "      <td>False</td>\n",
       "      <td>False</td>\n",
       "      <td>False</td>\n",
       "      <td>False</td>\n",
       "      <td>True</td>\n",
       "      <td>False</td>\n",
       "      <td>True</td>\n",
       "    </tr>\n",
       "    <tr>\n",
       "      <th>63441553</th>\n",
       "      <td>2022-12-31 23:00:00</td>\n",
       "      <td>9q5cw</td>\n",
       "      <td>0.0</td>\n",
       "      <td>23</td>\n",
       "      <td>5</td>\n",
       "      <td>False</td>\n",
       "      <td>False</td>\n",
       "      <td>False</td>\n",
       "      <td>False</td>\n",
       "      <td>False</td>\n",
       "      <td>...</td>\n",
       "      <td>False</td>\n",
       "      <td>True</td>\n",
       "      <td>False</td>\n",
       "      <td>False</td>\n",
       "      <td>False</td>\n",
       "      <td>False</td>\n",
       "      <td>False</td>\n",
       "      <td>True</td>\n",
       "      <td>False</td>\n",
       "      <td>False</td>\n",
       "    </tr>\n",
       "  </tbody>\n",
       "</table>\n",
       "<p>8760 rows × 37 columns</p>\n",
       "</div>"
      ],
      "text/plain": [
       "                         hour geohash5  accident_count  hour_of_day  \\\n",
       "116                2022-01-01    9q5cw             0.0            0   \n",
       "7359      2022-01-01 01:00:00    9q5cw             0.0            1   \n",
       "14602     2022-01-01 02:00:00    9q5cw             0.0            2   \n",
       "21845     2022-01-01 03:00:00    9q5cw             2.0            3   \n",
       "29088     2022-01-01 04:00:00    9q5cw             0.0            4   \n",
       "...                       ...      ...             ...          ...   \n",
       "63412581  2022-12-31 19:00:00    9q5cw             4.0           19   \n",
       "63419824  2022-12-31 20:00:00    9q5cw             3.0           20   \n",
       "63427067  2022-12-31 21:00:00    9q5cw             0.0           21   \n",
       "63434310  2022-12-31 22:00:00    9q5cw             7.0           22   \n",
       "63441553  2022-12-31 23:00:00    9q5cw             0.0           23   \n",
       "\n",
       "          day_of_week  hour_0  hour_1  hour_2  hour_3  hour_4  ...  hour_22  \\\n",
       "116                 5    True   False   False   False   False  ...    False   \n",
       "7359                5   False    True   False   False   False  ...    False   \n",
       "14602               5   False   False    True   False   False  ...    False   \n",
       "21845               5   False   False   False    True   False  ...    False   \n",
       "29088               5   False   False   False   False    True  ...    False   \n",
       "...               ...     ...     ...     ...     ...     ...  ...      ...   \n",
       "63412581            5   False   False   False   False   False  ...    False   \n",
       "63419824            5   False   False   False   False   False  ...    False   \n",
       "63427067            5   False   False   False   False   False  ...    False   \n",
       "63434310            5   False   False   False   False   False  ...     True   \n",
       "63441553            5   False   False   False   False   False  ...    False   \n",
       "\n",
       "          hour_23  day_0  day_1  day_2  day_3  day_4  day_5  day_6  \\\n",
       "116         False  False  False  False  False  False   True  False   \n",
       "7359        False  False  False  False  False  False   True  False   \n",
       "14602       False  False  False  False  False  False   True  False   \n",
       "21845       False  False  False  False  False  False   True  False   \n",
       "29088       False  False  False  False  False  False   True  False   \n",
       "...           ...    ...    ...    ...    ...    ...    ...    ...   \n",
       "63412581    False  False  False  False  False  False   True  False   \n",
       "63419824    False  False  False  False  False  False   True  False   \n",
       "63427067    False  False  False  False  False  False   True  False   \n",
       "63434310    False  False  False  False  False  False   True  False   \n",
       "63441553     True  False  False  False  False  False   True  False   \n",
       "\n",
       "          accident_bool  \n",
       "116               False  \n",
       "7359              False  \n",
       "14602             False  \n",
       "21845              True  \n",
       "29088             False  \n",
       "...                 ...  \n",
       "63412581           True  \n",
       "63419824           True  \n",
       "63427067          False  \n",
       "63434310           True  \n",
       "63441553          False  \n",
       "\n",
       "[8760 rows x 37 columns]"
      ]
     },
     "execution_count": 23,
     "metadata": {},
     "output_type": "execute_result"
    }
   ],
   "source": [
    "one_hash_df"
   ]
  },
  {
   "cell_type": "markdown",
   "metadata": {},
   "source": [
    "## 2. Training"
   ]
  },
  {
   "cell_type": "markdown",
   "metadata": {},
   "source": [
    "The code I am using here is from exercise 06 Part 2."
   ]
  },
  {
   "cell_type": "code",
   "execution_count": 24,
   "metadata": {},
   "outputs": [
    {
     "name": "stdout",
     "output_type": "stream",
     "text": [
      " X_train: (7446, 31) \n",
      " X_test: (1314, 31) \n",
      " y_train: (7446,) \n",
      " y_test: (1314,)\n"
     ]
    }
   ],
   "source": [
    "# Define target\n",
    "y = np.array(one_hash_df['accident_bool'])\n",
    "X = np.array(one_hash_df.drop(columns=['hour', 'geohash5', 'accident_count', 'hour_of_day', 'day_of_week', 'accident_bool']))\n",
    "\n",
    "# Split into train and test\n",
    "N = len(X)\n",
    "split_idx = int(0.85*N)\n",
    "X_train = X[:split_idx,:]\n",
    "y_train = y[:split_idx]\n",
    "X_test = X[split_idx:,:]\n",
    "y_test = y[split_idx:]\n",
    "\n",
    "print(' X_train:', X_train.shape, '\\n', 'X_test:', X_test.shape, '\\n', 'y_train:', y_train.shape, '\\n', 'y_test:', y_test.shape)"
   ]
  },
  {
   "cell_type": "code",
   "execution_count": 40,
   "metadata": {},
   "outputs": [],
   "source": [
    "# code taken from https://towardsdatascience.com/bayesian-logistic-regression-in-python-9fae6e6e3e6a\n",
    "def logistic_regression_model(features, target):\n",
    "    # Generate priors\n",
    "    weight = pyro.sample(\n",
    "        \"weight\", dist.Normal(torch.zeros(1, features.shape[1]), torch.ones(1, features.shape[1])).independent(1)\n",
    "    )\n",
    "    bias = pyro.sample(\n",
    "        \"bias\", dist.Normal(torch.zeros(1), torch.ones(1))\n",
    "    )\n",
    "    with pyro.plate(\"data\", features.size(0)):\n",
    "        # Generate raw model logits\n",
    "        model_logits = (torch.matmul(features, weight.permute(1, 0)) + bias).squeeze()\n",
    "        # Apply sigmoid function\n",
    "        probs = torch.sigmoid(model_logits)\n",
    "        pyro.sample(\n",
    "            \"obs\", \n",
    "            dist.Bernoulli(probs=probs),\n",
    "            obs=target.squeeze()\n",
    "        )"
   ]
  },
  {
   "cell_type": "code",
   "execution_count": 41,
   "metadata": {},
   "outputs": [],
   "source": [
    "def run_inference(features: torch.Tensor, target: torch.Tensor, number_of_samples: int, number_of_chains:int) -> MCMC:\n",
    "    # Initialise NUTS sampler\n",
    "    kernel = NUTS(logistic_regression_model)\n",
    "    # Initialise MCMC class\n",
    "    mcmc = MCMC(kernel, num_samples = number_of_samples, warmup_steps = 200, num_chains=number_of_chains)\n",
    "    # Run sampling\n",
    "    mcmc.run(features.float(), target.float())\n",
    "    return mcmc"
   ]
  },
  {
   "cell_type": "code",
   "execution_count": 42,
   "metadata": {},
   "outputs": [
    {
     "name": "stderr",
     "output_type": "stream",
     "text": [
      "Sample: 100%|██████████| 3200/3200 [04:28, 11.91it/s, step size=8.83e-02, acc. prob=0.946]\n"
     ]
    }
   ],
   "source": [
    "inference = run_inference(features=X_train, target=y_train, number_of_samples=3000, number_of_chains=1)"
   ]
  },
  {
   "cell_type": "code",
   "execution_count": 45,
   "metadata": {},
   "outputs": [
    {
     "name": "stdout",
     "output_type": "stream",
     "text": [
      "\n",
      "                  mean       std    median      5.0%     95.0%     n_eff     r_hat\n",
      "     bias[0]     -1.21      0.37     -1.20     -1.84     -0.63    162.30      1.00\n",
      " weight[0,0]     -0.40      0.25     -0.41     -0.79      0.03    220.71      1.01\n",
      " weight[0,1]     -0.93      0.28     -0.92     -1.37     -0.47    268.23      1.01\n",
      " weight[0,2]     -1.00      0.28     -0.99     -1.47     -0.55    248.04      1.01\n",
      " weight[0,3]     -0.92      0.28     -0.92     -1.40     -0.48    249.82      1.01\n",
      " weight[0,4]     -1.12      0.29     -1.13     -1.61     -0.69    284.40      1.01\n",
      " weight[0,5]      0.42      0.24      0.42      0.04      0.83    185.90      1.02\n",
      " weight[0,6]      0.58      0.24      0.58      0.15      0.95    186.61      1.01\n",
      " weight[0,7]      0.26      0.24      0.25     -0.09      0.68    186.13      1.01\n",
      " weight[0,8]      0.17      0.24      0.17     -0.22      0.57    191.63      1.01\n",
      " weight[0,9]      0.15      0.25      0.15     -0.23      0.59    199.20      1.01\n",
      "weight[0,10]      0.11      0.24      0.12     -0.29      0.51    196.00      1.01\n",
      "weight[0,11]      0.27      0.24      0.28     -0.09      0.71    180.52      1.01\n",
      "weight[0,12]      0.50      0.24      0.50      0.10      0.87    182.37      1.01\n",
      "weight[0,13]      1.01      0.24      1.01      0.65      1.43    181.49      1.01\n",
      "weight[0,14]      1.02      0.24      1.02      0.64      1.42    182.84      1.01\n",
      "weight[0,15]      0.71      0.24      0.71      0.32      1.10    183.71      1.01\n",
      "weight[0,16]      0.37      0.24      0.37     -0.02      0.76    185.03      1.02\n",
      "weight[0,17]      0.34      0.24      0.35     -0.05      0.74    186.75      1.01\n",
      "weight[0,18]      0.06      0.25      0.06     -0.35      0.45    197.68      1.01\n",
      "weight[0,19]     -0.26      0.26     -0.25     -0.65      0.18    211.48      1.01\n",
      "weight[0,20]     -0.54      0.26     -0.54     -0.97     -0.12    217.41      1.01\n",
      "weight[0,21]     -0.75      0.27     -0.74     -1.17     -0.29    234.19      1.01\n",
      "weight[0,22]     -0.72      0.27     -0.72     -1.16     -0.29    234.52      1.01\n",
      "weight[0,23]     -0.28      0.25     -0.28     -0.70      0.14    209.16      1.01\n",
      "weight[0,24]     -0.37      0.35     -0.38     -0.95      0.18    168.67      1.01\n",
      "weight[0,25]     -0.16      0.35     -0.17     -0.67      0.46    168.90      1.00\n",
      "weight[0,26]     -0.04      0.35     -0.04     -0.54      0.60    169.45      1.00\n",
      "weight[0,27]     -0.14      0.35     -0.14     -0.70      0.42    170.22      1.00\n",
      "weight[0,28]      0.08      0.35      0.08     -0.44      0.67    169.55      1.00\n",
      "weight[0,29]     -0.33      0.35     -0.33     -0.86      0.26    170.79      1.00\n",
      "weight[0,30]     -0.24      0.35     -0.25     -0.80      0.34    168.48      1.00\n",
      "\n",
      "Number of divergences: 0\n"
     ]
    }
   ],
   "source": [
    "summary = inference.summary()"
   ]
  },
  {
   "cell_type": "code",
   "execution_count": 46,
   "metadata": {},
   "outputs": [],
   "source": [
    "samples = inference.get_samples()"
   ]
  },
  {
   "cell_type": "code",
   "execution_count": 62,
   "metadata": {},
   "outputs": [
    {
     "data": {
      "text/plain": [
       "torch.Size([3000, 1])"
      ]
     },
     "execution_count": 62,
     "metadata": {},
     "output_type": "execute_result"
    }
   ],
   "source": [
    "samples['weight'][:,:,0].shape"
   ]
  },
  {
   "cell_type": "code",
   "execution_count": 63,
   "metadata": {},
   "outputs": [
    {
     "data": {
      "image/png": "[encoded data removed]",
      "text/plain": [
       "<Figure size 1000x800 with 4 Axes>"
      ]
     },
     "metadata": {},
     "output_type": "display_data"
    }
   ],
   "source": [
    "# Create a 2x2 subplot grid\n",
    "fig, axs = plt.subplots(2, 2, figsize=(10, 8))\n",
    "\n",
    "# Plot samples['bias'] on the first subplot\n",
    "axs[0, 0].plot(samples['bias'])\n",
    "axs[0, 0].set_title('Bias Plot')\n",
    "\n",
    "# Plot KDE plot of samples['bias'] on the second subplot\n",
    "sns.kdeplot(samples['bias'], ax=axs[0, 1])\n",
    "axs[0, 1].set_title('Bias KDE Plot')\n",
    "\n",
    "# Plot samples['weights'] on the third subplot\n",
    "axs[1, 0].plot(samples['weight'][:,:,0])\n",
    "axs[1, 0].set_title('Weights Plot')\n",
    "\n",
    "# Plot KDE plot of samples['weights'] on the fourth subplot\n",
    "sns.kdeplot(samples['weight'][:,:,0], ax=axs[1, 1])\n",
    "axs[1, 1].set_title('Weights KDE Plot')\n",
    "\n",
    "# Adjust layout\n",
    "plt.tight_layout()\n",
    "\n",
    "# Show the plots\n",
    "plt.show()"
   ]
  },
  {
   "cell_type": "code",
   "execution_count": 82,
   "metadata": {},
   "outputs": [
    {
     "data": {
      "text/plain": [
       "torch.Size([31, 1])"
      ]
     },
     "execution_count": 82,
     "metadata": {},
     "output_type": "execute_result"
    }
   ],
   "source": [
    "samples[\"weight\"][0].permute(1, 0).shape"
   ]
  },
  {
   "cell_type": "code",
   "execution_count": 86,
   "metadata": {},
   "outputs": [
    {
     "data": {
      "text/plain": [
       "array([[False, False, False, ..., False, False, False],\n",
       "       [False, False, False, ..., False, False, False],\n",
       "       [False, False, False, ..., False, False, False],\n",
       "       ...,\n",
       "       [False, False, False, ..., False,  True, False],\n",
       "       [False, False, False, ..., False,  True, False],\n",
       "       [False, False, False, ..., False,  True, False]])"
      ]
     },
     "execution_count": 86,
     "metadata": {},
     "output_type": "execute_result"
    }
   ],
   "source": [
    "X_test"
   ]
  },
  {
   "cell_type": "code",
   "execution_count": 88,
   "metadata": {},
   "outputs": [],
   "source": [
    "def create_predictions(samples: dict, dataset: torch.tensor) -> Tuple[torch.Tensor, torch.Tensor, torch.Tensor, torch.Tensor]:\n",
    "    # Create tensor of zeros with shape (number of samples x number of examples)\n",
    "    obs_samples = torch.zeros(samples[\"weight\"].shape[0], dataset.shape[0])\n",
    "    # Iterate through every set of samples\n",
    "    for i in range(samples[\"weight\"].shape[0]):\n",
    "        W_sample = samples[\"weight\"][i]\n",
    "        b_sample = samples[\"bias\"][i]\n",
    "\n",
    "        model_logits = (torch.matmul(dataset, W_sample.permute(1, 0)) + b_sample).squeeze()\n",
    "        probs = torch.sigmoid(model_logits)\n",
    "\n",
    "        obs_samples[i] = probs\n",
    "    # Calculate the mean prediction per example\n",
    "    mean_predictions = obs_samples.mean(dim=0)\n",
    "    # Classify the prediction\n",
    "    class_predictions = (obs_samples.mean(dim=0)>0.5).int()\n",
    "\n",
    "    return class_predictions, obs_samples, mean_predictions"
   ]
  },
  {
   "cell_type": "code",
   "execution_count": 90,
   "metadata": {},
   "outputs": [],
   "source": [
    "class_predictions, obs_samples, mean_predictions = create_predictions(samples=samples, dataset=torch.tensor(X_test).float())"
   ]
  },
  {
   "cell_type": "code",
   "execution_count": 93,
   "metadata": {},
   "outputs": [],
   "source": [
    "def calculate_classification_metrics(\n",
    "    true_labels: torch.Tensor, predicted_labels: torch.Tensor, prob_scores: torch.Tensor\n",
    ") -> dict:\n",
    "    metrics = {}\n",
    "\n",
    "    # Accuracy\n",
    "    metrics[\"Accuracy\"] = accuracy_score(true_labels, predicted_labels)\n",
    "\n",
    "    # Precision\n",
    "    metrics[\"Precision\"] = precision_score(true_labels, predicted_labels)\n",
    "\n",
    "    # Recall\n",
    "    metrics[\"Recall\"] = recall_score(true_labels, predicted_labels)\n",
    "\n",
    "    # F1 Score\n",
    "    metrics[\"F1 Score\"] = f1_score(true_labels, predicted_labels)\n",
    "\n",
    "    # Confusion Matrix\n",
    "    metrics[\"Confusion Matrix\"] = confusion_matrix(true_labels, predicted_labels)\n",
    "\n",
    "    # ROC Curve\n",
    "    metrics[\"ROC Score\"] = roc_curve(true_labels, prob_scores)\n",
    "\n",
    "    # AUC-ROC\n",
    "    metrics[\"AUC-ROC\"] = roc_auc_score(true_labels, prob_scores)\n",
    "\n",
    "    return metrics"
   ]
  },
  {
   "cell_type": "code",
   "execution_count": 94,
   "metadata": {},
   "outputs": [
    {
     "name": "stderr",
     "output_type": "stream",
     "text": [
      "c:\\Users\\balda\\anaconda3\\envs\\mb_ml\\Lib\\site-packages\\sklearn\\metrics\\_classification.py:1497: UndefinedMetricWarning: Precision is ill-defined and being set to 0.0 due to no predicted samples. Use `zero_division` parameter to control this behavior.\n",
      "  _warn_prf(average, modifier, f\"{metric.capitalize()} is\", len(result))\n"
     ]
    },
    {
     "data": {
      "text/plain": [
       "{'Accuracy': 0.7922374429223744,\n",
       " 'Precision': 0.0,\n",
       " 'Recall': 0.0,\n",
       " 'F1 Score': 0.0,\n",
       " 'Confusion Matrix': array([[1041,    0],\n",
       "        [ 273,    0]], dtype=int64),\n",
       " 'ROC Score': (array([0.        , 0.00384246, 0.00864553, 0.01633045, 0.02209414,\n",
       "         0.02881844, 0.03458213, 0.03842459, 0.04418828, 0.05091258,\n",
       "         0.05667627, 0.06051873, 0.06532181, 0.07204611, 0.0778098 ,\n",
       "         0.07973103, 0.08549472, 0.09317963, 0.09990394, 0.10566763,\n",
       "         0.11239193, 0.117195  , 0.12199808, 0.12584054, 0.13160423,\n",
       "         0.13544669, 0.13832853, 0.14601345, 0.15081652, 0.15754083,\n",
       "         0.1623439 , 0.16810759, 0.17483189, 0.1815562 , 0.18539866,\n",
       "         0.19116234, 0.19788665, 0.20365034, 0.21037464, 0.21613833,\n",
       "         0.24303554, 0.25072046, 0.26032661, 0.26705091, 0.2728146 ,\n",
       "         0.27761768, 0.28338136, 0.29010567, 0.29490874, 0.2987512 ,\n",
       "         0.30451489, 0.30931796, 0.33237272, 0.33909702, 0.3439001 ,\n",
       "         0.35542747, 0.36023055, 0.36503362, 0.37079731, 0.37848223,\n",
       "         0.38232469, 0.38904899, 0.39865514, 0.41210375, 0.41402498,\n",
       "         0.41978866, 0.42939481, 0.44092219, 0.44764649, 0.45533141,\n",
       "         0.4610951 , 0.46685879, 0.47454371, 0.47742555, 0.48414986,\n",
       "         0.48799232, 0.493756  , 0.50048031, 0.50528338, 0.51200768,\n",
       "         0.51777137, 0.52545629, 0.53121998, 0.5389049 , 0.54466859,\n",
       "         0.5648415 , 0.57060519, 0.57829011, 0.58309318, 0.58981748,\n",
       "         0.5975024 , 0.60422671, 0.61191162, 0.61767531, 0.62151777,\n",
       "         0.62728146, 0.63304515, 0.64841499, 0.65225744, 0.65898175,\n",
       "         0.66474544, 0.67243036, 0.67819404, 0.69356388, 0.69836695,\n",
       "         0.71853987, 0.73198847, 0.73871278, 0.74639769, 0.753122  ,\n",
       "         0.76080692, 0.77233429, 0.7790586 , 0.78386167, 0.79923151,\n",
       "         0.80403458, 0.81075889, 0.81652257, 0.82324688, 0.82997118,\n",
       "         0.8376561 , 0.84341979, 0.85014409, 0.86551393, 0.87223823,\n",
       "         0.87992315, 0.88472622, 0.89241114, 0.89913545, 0.90682037,\n",
       "         0.91354467, 0.92315082, 0.92891451, 0.93467819, 0.94236311,\n",
       "         0.95581172, 0.96926033, 0.97598463, 0.98174832, 0.98847262,\n",
       "         0.99423631, 1.        ]),\n",
       "  array([0.        , 0.01465201, 0.02564103, 0.05494505, 0.06227106,\n",
       "         0.06593407, 0.07326007, 0.08791209, 0.09157509, 0.0952381 ,\n",
       "         0.0989011 , 0.11355311, 0.12454212, 0.12820513, 0.13553114,\n",
       "         0.15750916, 0.16483516, 0.19413919, 0.1978022 , 0.20512821,\n",
       "         0.20879121, 0.21611722, 0.22710623, 0.24175824, 0.24908425,\n",
       "         0.26373626, 0.28205128, 0.28205128, 0.29304029, 0.2967033 ,\n",
       "         0.30769231, 0.31501832, 0.31501832, 0.31868132, 0.33333333,\n",
       "         0.34065934, 0.34432234, 0.35164835, 0.35164835, 0.35897436,\n",
       "         0.37362637, 0.37362637, 0.3956044 , 0.3992674 , 0.40659341,\n",
       "         0.41758242, 0.42490842, 0.42490842, 0.43589744, 0.45054945,\n",
       "         0.45421245, 0.46520147, 0.49450549, 0.4981685 , 0.50549451,\n",
       "         0.52014652, 0.53113553, 0.53846154, 0.54212454, 0.54212454,\n",
       "         0.55677656, 0.55677656, 0.57875458, 0.58608059, 0.60805861,\n",
       "         0.61538462, 0.63736264, 0.65201465, 0.65201465, 0.65201465,\n",
       "         0.65567766, 0.66300366, 0.66300366, 0.68131868, 0.68498168,\n",
       "         0.6959707 , 0.7032967 , 0.70695971, 0.71428571, 0.71794872,\n",
       "         0.72527473, 0.72527473, 0.73260073, 0.73260073, 0.73992674,\n",
       "         0.75091575, 0.75824176, 0.75824176, 0.76923077, 0.77289377,\n",
       "         0.77289377, 0.77655678, 0.77655678, 0.78388278, 0.79487179,\n",
       "         0.7985348 , 0.80586081, 0.80586081, 0.82051282, 0.82417582,\n",
       "         0.83150183, 0.83150183, 0.83516484, 0.83516484, 0.84615385,\n",
       "         0.85714286, 0.85714286, 0.86080586, 0.86080586, 0.86446886,\n",
       "         0.86446886, 0.87912088, 0.88278388, 0.89377289, 0.89377289,\n",
       "         0.9010989 , 0.9047619 , 0.91208791, 0.91208791, 0.91575092,\n",
       "         0.91575092, 0.92307692, 0.92673993, 0.92673993, 0.93040293,\n",
       "         0.93040293, 0.94139194, 0.94139194, 0.94505495, 0.94505495,\n",
       "         0.94871795, 0.96336996, 0.96703297, 0.97435897, 0.97435897,\n",
       "         0.98168498, 0.98168498, 0.98534799, 0.98901099, 0.98901099,\n",
       "         0.996337  , 1.        ]),\n",
       "  array([       inf, 0.47500733, 0.47216988, 0.4426058 , 0.41914213,\n",
       "         0.4163647 , 0.41573662, 0.4129827 , 0.3973459 , 0.39733627,\n",
       "         0.3946139 , 0.37423974, 0.37159187, 0.36916813, 0.3672422 ,\n",
       "         0.36478493, 0.3621231 , 0.34459662, 0.34145427, 0.34003547,\n",
       "         0.33065227, 0.32452708, 0.32324985, 0.32116345, 0.31642595,\n",
       "         0.31489593, 0.31340802, 0.30483428, 0.30352902, 0.3004192 ,\n",
       "         0.30026984, 0.29735613, 0.29724848, 0.29649723, 0.29573172,\n",
       "         0.29501447, 0.28978145, 0.2826237 , 0.28166226, 0.27982935,\n",
       "         0.2751204 , 0.2739374 , 0.27117664, 0.269183  , 0.26827088,\n",
       "         0.26793617, 0.2655317 , 0.26472425, 0.26236203, 0.25685188,\n",
       "         0.25634634, 0.2551716 , 0.25203204, 0.2515524 , 0.2509391 ,\n",
       "         0.24616817, 0.24522549, 0.23869735, 0.23835717, 0.2381862 ,\n",
       "         0.23535927, 0.23495951, 0.23302369, 0.23236212, 0.23088999,\n",
       "         0.22987343, 0.22583012, 0.22111566, 0.21951833, 0.21788831,\n",
       "         0.21666867, 0.21608335, 0.21418463, 0.21374324, 0.21104637,\n",
       "         0.21057451, 0.20326144, 0.20212442, 0.20122667, 0.20057227,\n",
       "         0.19845292, 0.19677167, 0.19478963, 0.19414486, 0.18848963,\n",
       "         0.18020645, 0.17991748, 0.17964347, 0.16808546, 0.1661425 ,\n",
       "         0.16489954, 0.16299382, 0.1627432 , 0.16100602, 0.15584925,\n",
       "         0.15288821, 0.14865918, 0.14555553, 0.14346454, 0.14067557,\n",
       "         0.13852261, 0.13835676, 0.13761649, 0.13484034, 0.13277014,\n",
       "         0.12475115, 0.12201785, 0.12153124, 0.11596984, 0.11570214,\n",
       "         0.11356051, 0.11211074, 0.11054658, 0.10920447, 0.1085699 ,\n",
       "         0.10476977, 0.10428798, 0.10408511, 0.10199334, 0.09758595,\n",
       "         0.09726284, 0.09595546, 0.09467864, 0.09350236, 0.09337793,\n",
       "         0.09333664, 0.09249241, 0.09000213, 0.08856141, 0.08745311,\n",
       "         0.08730768, 0.0870795 , 0.08153916, 0.07978154, 0.0796104 ,\n",
       "         0.07811479, 0.07670891, 0.07454748, 0.07281982, 0.07179037,\n",
       "         0.06647094, 0.06400301], dtype=float32)),\n",
       " 'AUC-ROC': 0.625193090610958}"
      ]
     },
     "execution_count": 94,
     "metadata": {},
     "output_type": "execute_result"
    }
   ],
   "source": [
    "calculate_classification_metrics(\n",
    "    true_labels=y_test, predicted_labels=class_predictions, prob_scores=mean_predictions\n",
    ")"
   ]
  },
  {
   "cell_type": "code",
   "execution_count": 26,
   "metadata": {},
   "outputs": [],
   "source": [
    "def model(X, obs=None):\n",
    "    input_dim = X.shape[1]\n",
    "    alpha = pyro.sample(\"alpha\", dist.Normal(torch.zeros(1), \n",
    "                                             5.*torch.ones(1)).to_event())  # Prior for the bias/intercept\n",
    "    beta  = pyro.sample(\"beta\", dist.Normal(torch.zeros(input_dim), \n",
    "                                            5.*torch.ones(input_dim)).to_event()) # Priors for the regression coeffcients\n",
    "    \n",
    "    with pyro.plate(\"data\"):\n",
    "        y = pyro.sample(\"y\", dist.Bernoulli(logits=alpha + X.matmul(beta)), obs=obs)\n",
    "        \n",
    "    return y"
   ]
  },
  {
   "cell_type": "code",
   "execution_count": 27,
   "metadata": {},
   "outputs": [],
   "source": [
    "# Prepare data for Pyro\n",
    "X_train = torch.tensor(X_train).float()\n",
    "y_train = torch.tensor(y_train).float()"
   ]
  },
  {
   "cell_type": "code",
   "execution_count": 30,
   "metadata": {},
   "outputs": [
    {
     "data": {
      "text/plain": [
       "tensor([0., 0., 0.,  ..., 0., 0., 0.])"
      ]
     },
     "execution_count": 30,
     "metadata": {},
     "output_type": "execute_result"
    }
   ],
   "source": [
    "y_train"
   ]
  },
  {
   "cell_type": "code",
   "execution_count": 31,
   "metadata": {},
   "outputs": [
    {
     "data": {
      "text/plain": [
       "array([False, False, False, ..., False,  True, False])"
      ]
     },
     "execution_count": 31,
     "metadata": {},
     "output_type": "execute_result"
    }
   ],
   "source": [
    "y"
   ]
  },
  {
   "cell_type": "code",
   "execution_count": 28,
   "metadata": {},
   "outputs": [
    {
     "data": {
      "text/plain": [
       "(torch.Size([7446, 31]), torch.Size([7446]))"
      ]
     },
     "execution_count": 28,
     "metadata": {},
     "output_type": "execute_result"
    }
   ],
   "source": [
    "X_train.shape, y_train.shape"
   ]
  },
  {
   "cell_type": "code",
   "execution_count": 29,
   "metadata": {},
   "outputs": [
    {
     "ename": "ValueError",
     "evalue": "Error while computing log_prob at site 'y':\nExpected value argument (Tensor of shape (7446,)) to be within the support (Boolean()) of the distribution Bernoulli(logits: torch.Size([7446])), but found invalid values:\ntensor([-1., -1., -1.,  ..., -1., -1., -1.])\nTrace Shapes:          \n Param Sites:          \nSample Sites:          \n   alpha dist      |  1\n        value      |  1\n     log_prob      |   \n    beta dist      | 31\n        value      | 31\n     log_prob      |   \n       y dist 7446 |   \n        value 7446 |   ",
     "output_type": "error",
     "traceback": [
      "\u001b[1;31m---------------------------------------------------------------------------\u001b[0m",
      "\u001b[1;31mValueError\u001b[0m                                Traceback (most recent call last)",
      "File \u001b[1;32mc:\\Users\\balda\\anaconda3\\envs\\mb_ml\\Lib\\site-packages\\pyro\\poutine\\trace_struct.py:230\u001b[0m, in \u001b[0;36mTrace.compute_log_prob\u001b[1;34m(self, site_filter)\u001b[0m\n\u001b[0;32m    229\u001b[0m \u001b[38;5;28;01mtry\u001b[39;00m:\n\u001b[1;32m--> 230\u001b[0m     log_p \u001b[38;5;241m=\u001b[39m \u001b[43msite\u001b[49m\u001b[43m[\u001b[49m\u001b[38;5;124;43m\"\u001b[39;49m\u001b[38;5;124;43mfn\u001b[39;49m\u001b[38;5;124;43m\"\u001b[39;49m\u001b[43m]\u001b[49m\u001b[38;5;241;43m.\u001b[39;49m\u001b[43mlog_prob\u001b[49m\u001b[43m(\u001b[49m\n\u001b[0;32m    231\u001b[0m \u001b[43m        \u001b[49m\u001b[43msite\u001b[49m\u001b[43m[\u001b[49m\u001b[38;5;124;43m\"\u001b[39;49m\u001b[38;5;124;43mvalue\u001b[39;49m\u001b[38;5;124;43m\"\u001b[39;49m\u001b[43m]\u001b[49m\u001b[43m,\u001b[49m\u001b[43m \u001b[49m\u001b[38;5;241;43m*\u001b[39;49m\u001b[43msite\u001b[49m\u001b[43m[\u001b[49m\u001b[38;5;124;43m\"\u001b[39;49m\u001b[38;5;124;43margs\u001b[39;49m\u001b[38;5;124;43m\"\u001b[39;49m\u001b[43m]\u001b[49m\u001b[43m,\u001b[49m\u001b[43m \u001b[49m\u001b[38;5;241;43m*\u001b[39;49m\u001b[38;5;241;43m*\u001b[39;49m\u001b[43msite\u001b[49m\u001b[43m[\u001b[49m\u001b[38;5;124;43m\"\u001b[39;49m\u001b[38;5;124;43mkwargs\u001b[39;49m\u001b[38;5;124;43m\"\u001b[39;49m\u001b[43m]\u001b[49m\n\u001b[0;32m    232\u001b[0m \u001b[43m    \u001b[49m\u001b[43m)\u001b[49m\n\u001b[0;32m    233\u001b[0m \u001b[38;5;28;01mexcept\u001b[39;00m \u001b[38;5;167;01mValueError\u001b[39;00m \u001b[38;5;28;01mas\u001b[39;00m e:\n",
      "File \u001b[1;32mc:\\Users\\balda\\anaconda3\\envs\\mb_ml\\Lib\\site-packages\\torch\\distributions\\bernoulli.py:109\u001b[0m, in \u001b[0;36mBernoulli.log_prob\u001b[1;34m(self, value)\u001b[0m\n\u001b[0;32m    108\u001b[0m \u001b[38;5;28;01mif\u001b[39;00m \u001b[38;5;28mself\u001b[39m\u001b[38;5;241m.\u001b[39m_validate_args:\n\u001b[1;32m--> 109\u001b[0m     \u001b[38;5;28;43mself\u001b[39;49m\u001b[38;5;241;43m.\u001b[39;49m\u001b[43m_validate_sample\u001b[49m\u001b[43m(\u001b[49m\u001b[43mvalue\u001b[49m\u001b[43m)\u001b[49m\n\u001b[0;32m    110\u001b[0m logits, value \u001b[38;5;241m=\u001b[39m broadcast_all(\u001b[38;5;28mself\u001b[39m\u001b[38;5;241m.\u001b[39mlogits, value)\n",
      "File \u001b[1;32mc:\\Users\\balda\\anaconda3\\envs\\mb_ml\\Lib\\site-packages\\torch\\distributions\\distribution.py:312\u001b[0m, in \u001b[0;36mDistribution._validate_sample\u001b[1;34m(self, value)\u001b[0m\n\u001b[0;32m    311\u001b[0m \u001b[38;5;28;01mif\u001b[39;00m \u001b[38;5;129;01mnot\u001b[39;00m valid\u001b[38;5;241m.\u001b[39mall():\n\u001b[1;32m--> 312\u001b[0m     \u001b[38;5;28;01mraise\u001b[39;00m \u001b[38;5;167;01mValueError\u001b[39;00m(\n\u001b[0;32m    313\u001b[0m         \u001b[38;5;124m\"\u001b[39m\u001b[38;5;124mExpected value argument \u001b[39m\u001b[38;5;124m\"\u001b[39m\n\u001b[0;32m    314\u001b[0m         \u001b[38;5;124mf\u001b[39m\u001b[38;5;124m\"\u001b[39m\u001b[38;5;124m(\u001b[39m\u001b[38;5;132;01m{\u001b[39;00m\u001b[38;5;28mtype\u001b[39m(value)\u001b[38;5;241m.\u001b[39m\u001b[38;5;18m__name__\u001b[39m\u001b[38;5;132;01m}\u001b[39;00m\u001b[38;5;124m of shape \u001b[39m\u001b[38;5;132;01m{\u001b[39;00m\u001b[38;5;28mtuple\u001b[39m(value\u001b[38;5;241m.\u001b[39mshape)\u001b[38;5;132;01m}\u001b[39;00m\u001b[38;5;124m) \u001b[39m\u001b[38;5;124m\"\u001b[39m\n\u001b[0;32m    315\u001b[0m         \u001b[38;5;124mf\u001b[39m\u001b[38;5;124m\"\u001b[39m\u001b[38;5;124mto be within the support (\u001b[39m\u001b[38;5;132;01m{\u001b[39;00m\u001b[38;5;28mrepr\u001b[39m(support)\u001b[38;5;132;01m}\u001b[39;00m\u001b[38;5;124m) \u001b[39m\u001b[38;5;124m\"\u001b[39m\n\u001b[0;32m    316\u001b[0m         \u001b[38;5;124mf\u001b[39m\u001b[38;5;124m\"\u001b[39m\u001b[38;5;124mof the distribution \u001b[39m\u001b[38;5;132;01m{\u001b[39;00m\u001b[38;5;28mrepr\u001b[39m(\u001b[38;5;28mself\u001b[39m)\u001b[38;5;132;01m}\u001b[39;00m\u001b[38;5;124m, \u001b[39m\u001b[38;5;124m\"\u001b[39m\n\u001b[0;32m    317\u001b[0m         \u001b[38;5;124mf\u001b[39m\u001b[38;5;124m\"\u001b[39m\u001b[38;5;124mbut found invalid values:\u001b[39m\u001b[38;5;130;01m\\n\u001b[39;00m\u001b[38;5;132;01m{\u001b[39;00mvalue\u001b[38;5;132;01m}\u001b[39;00m\u001b[38;5;124m\"\u001b[39m\n\u001b[0;32m    318\u001b[0m     )\n",
      "\u001b[1;31mValueError\u001b[0m: Expected value argument (Tensor of shape (7446,)) to be within the support (Boolean()) of the distribution Bernoulli(logits: torch.Size([7446])), but found invalid values:\ntensor([-1., -1., -1.,  ..., -1., -1., -1.])",
      "\nThe above exception was the direct cause of the following exception:\n",
      "\u001b[1;31mValueError\u001b[0m                                Traceback (most recent call last)",
      "Cell \u001b[1;32mIn[29], line 20\u001b[0m\n\u001b[0;32m     18\u001b[0m \u001b[38;5;66;03m# Do gradient steps\u001b[39;00m\n\u001b[0;32m     19\u001b[0m \u001b[38;5;28;01mfor\u001b[39;00m step \u001b[38;5;129;01min\u001b[39;00m \u001b[38;5;28mrange\u001b[39m(n_steps):\n\u001b[1;32m---> 20\u001b[0m     elbo \u001b[38;5;241m=\u001b[39m \u001b[43msvi\u001b[49m\u001b[38;5;241;43m.\u001b[39;49m\u001b[43mstep\u001b[49m\u001b[43m(\u001b[49m\u001b[43mX_train\u001b[49m\u001b[43m,\u001b[49m\u001b[43m \u001b[49m\u001b[43my_train\u001b[49m\u001b[38;5;241;43m-\u001b[39;49m\u001b[38;5;241;43m1\u001b[39;49m\u001b[43m)\u001b[49m\n\u001b[0;32m     21\u001b[0m     \u001b[38;5;28;01mif\u001b[39;00m step \u001b[38;5;241m%\u001b[39m \u001b[38;5;241m1000\u001b[39m \u001b[38;5;241m==\u001b[39m \u001b[38;5;241m0\u001b[39m:\n\u001b[0;32m     22\u001b[0m         \u001b[38;5;28mprint\u001b[39m(\u001b[38;5;124m\"\u001b[39m\u001b[38;5;124m[\u001b[39m\u001b[38;5;132;01m%d\u001b[39;00m\u001b[38;5;124m] ELBO: \u001b[39m\u001b[38;5;132;01m%.1f\u001b[39;00m\u001b[38;5;124m\"\u001b[39m \u001b[38;5;241m%\u001b[39m (step, elbo))\n",
      "File \u001b[1;32mc:\\Users\\balda\\anaconda3\\envs\\mb_ml\\Lib\\site-packages\\pyro\\infer\\svi.py:145\u001b[0m, in \u001b[0;36mSVI.step\u001b[1;34m(self, *args, **kwargs)\u001b[0m\n\u001b[0;32m    143\u001b[0m \u001b[38;5;66;03m# get loss and compute gradients\u001b[39;00m\n\u001b[0;32m    144\u001b[0m \u001b[38;5;28;01mwith\u001b[39;00m poutine\u001b[38;5;241m.\u001b[39mtrace(param_only\u001b[38;5;241m=\u001b[39m\u001b[38;5;28;01mTrue\u001b[39;00m) \u001b[38;5;28;01mas\u001b[39;00m param_capture:\n\u001b[1;32m--> 145\u001b[0m     loss \u001b[38;5;241m=\u001b[39m \u001b[38;5;28;43mself\u001b[39;49m\u001b[38;5;241;43m.\u001b[39;49m\u001b[43mloss_and_grads\u001b[49m\u001b[43m(\u001b[49m\u001b[38;5;28;43mself\u001b[39;49m\u001b[38;5;241;43m.\u001b[39;49m\u001b[43mmodel\u001b[49m\u001b[43m,\u001b[49m\u001b[43m \u001b[49m\u001b[38;5;28;43mself\u001b[39;49m\u001b[38;5;241;43m.\u001b[39;49m\u001b[43mguide\u001b[49m\u001b[43m,\u001b[49m\u001b[43m \u001b[49m\u001b[38;5;241;43m*\u001b[39;49m\u001b[43margs\u001b[49m\u001b[43m,\u001b[49m\u001b[43m \u001b[49m\u001b[38;5;241;43m*\u001b[39;49m\u001b[38;5;241;43m*\u001b[39;49m\u001b[43mkwargs\u001b[49m\u001b[43m)\u001b[49m\n\u001b[0;32m    147\u001b[0m params \u001b[38;5;241m=\u001b[39m \u001b[38;5;28mset\u001b[39m(\n\u001b[0;32m    148\u001b[0m     site[\u001b[38;5;124m\"\u001b[39m\u001b[38;5;124mvalue\u001b[39m\u001b[38;5;124m\"\u001b[39m]\u001b[38;5;241m.\u001b[39munconstrained() \u001b[38;5;28;01mfor\u001b[39;00m site \u001b[38;5;129;01min\u001b[39;00m param_capture\u001b[38;5;241m.\u001b[39mtrace\u001b[38;5;241m.\u001b[39mnodes\u001b[38;5;241m.\u001b[39mvalues()\n\u001b[0;32m    149\u001b[0m )\n\u001b[0;32m    151\u001b[0m \u001b[38;5;66;03m# actually perform gradient steps\u001b[39;00m\n\u001b[0;32m    152\u001b[0m \u001b[38;5;66;03m# torch.optim objects gets instantiated for any params that haven't been seen yet\u001b[39;00m\n",
      "File \u001b[1;32mc:\\Users\\balda\\anaconda3\\envs\\mb_ml\\Lib\\site-packages\\pyro\\infer\\trace_elbo.py:140\u001b[0m, in \u001b[0;36mTrace_ELBO.loss_and_grads\u001b[1;34m(self, model, guide, *args, **kwargs)\u001b[0m\n\u001b[0;32m    138\u001b[0m loss \u001b[38;5;241m=\u001b[39m \u001b[38;5;241m0.0\u001b[39m\n\u001b[0;32m    139\u001b[0m \u001b[38;5;66;03m# grab a trace from the generator\u001b[39;00m\n\u001b[1;32m--> 140\u001b[0m \u001b[43m\u001b[49m\u001b[38;5;28;43;01mfor\u001b[39;49;00m\u001b[43m \u001b[49m\u001b[43mmodel_trace\u001b[49m\u001b[43m,\u001b[49m\u001b[43m \u001b[49m\u001b[43mguide_trace\u001b[49m\u001b[43m \u001b[49m\u001b[38;5;129;43;01min\u001b[39;49;00m\u001b[43m \u001b[49m\u001b[38;5;28;43mself\u001b[39;49m\u001b[38;5;241;43m.\u001b[39;49m\u001b[43m_get_traces\u001b[49m\u001b[43m(\u001b[49m\u001b[43mmodel\u001b[49m\u001b[43m,\u001b[49m\u001b[43m \u001b[49m\u001b[43mguide\u001b[49m\u001b[43m,\u001b[49m\u001b[43m \u001b[49m\u001b[43margs\u001b[49m\u001b[43m,\u001b[49m\u001b[43m \u001b[49m\u001b[43mkwargs\u001b[49m\u001b[43m)\u001b[49m\u001b[43m:\u001b[49m\n\u001b[0;32m    141\u001b[0m \u001b[43m    \u001b[49m\u001b[43mloss_particle\u001b[49m\u001b[43m,\u001b[49m\u001b[43m \u001b[49m\u001b[43msurrogate_loss_particle\u001b[49m\u001b[43m \u001b[49m\u001b[38;5;241;43m=\u001b[39;49m\u001b[43m \u001b[49m\u001b[38;5;28;43mself\u001b[39;49m\u001b[38;5;241;43m.\u001b[39;49m\u001b[43m_differentiable_loss_particle\u001b[49m\u001b[43m(\u001b[49m\n\u001b[0;32m    142\u001b[0m \u001b[43m        \u001b[49m\u001b[43mmodel_trace\u001b[49m\u001b[43m,\u001b[49m\u001b[43m \u001b[49m\u001b[43mguide_trace\u001b[49m\n\u001b[0;32m    143\u001b[0m \u001b[43m    \u001b[49m\u001b[43m)\u001b[49m\n\u001b[0;32m    144\u001b[0m \u001b[43m    \u001b[49m\u001b[43mloss\u001b[49m\u001b[43m \u001b[49m\u001b[38;5;241;43m+\u001b[39;49m\u001b[38;5;241;43m=\u001b[39;49m\u001b[43m \u001b[49m\u001b[43mloss_particle\u001b[49m\u001b[43m \u001b[49m\u001b[38;5;241;43m/\u001b[39;49m\u001b[43m \u001b[49m\u001b[38;5;28;43mself\u001b[39;49m\u001b[38;5;241;43m.\u001b[39;49m\u001b[43mnum_particles\u001b[49m\n",
      "File \u001b[1;32mc:\\Users\\balda\\anaconda3\\envs\\mb_ml\\Lib\\site-packages\\pyro\\infer\\elbo.py:237\u001b[0m, in \u001b[0;36mELBO._get_traces\u001b[1;34m(self, model, guide, args, kwargs)\u001b[0m\n\u001b[0;32m    235\u001b[0m \u001b[38;5;28;01melse\u001b[39;00m:\n\u001b[0;32m    236\u001b[0m     \u001b[38;5;28;01mfor\u001b[39;00m i \u001b[38;5;129;01min\u001b[39;00m \u001b[38;5;28mrange\u001b[39m(\u001b[38;5;28mself\u001b[39m\u001b[38;5;241m.\u001b[39mnum_particles):\n\u001b[1;32m--> 237\u001b[0m         \u001b[38;5;28;01myield\u001b[39;00m \u001b[38;5;28;43mself\u001b[39;49m\u001b[38;5;241;43m.\u001b[39;49m\u001b[43m_get_trace\u001b[49m\u001b[43m(\u001b[49m\u001b[43mmodel\u001b[49m\u001b[43m,\u001b[49m\u001b[43m \u001b[49m\u001b[43mguide\u001b[49m\u001b[43m,\u001b[49m\u001b[43m \u001b[49m\u001b[43margs\u001b[49m\u001b[43m,\u001b[49m\u001b[43m \u001b[49m\u001b[43mkwargs\u001b[49m\u001b[43m)\u001b[49m\n",
      "File \u001b[1;32mc:\\Users\\balda\\anaconda3\\envs\\mb_ml\\Lib\\site-packages\\pyro\\infer\\trace_elbo.py:57\u001b[0m, in \u001b[0;36mTrace_ELBO._get_trace\u001b[1;34m(self, model, guide, args, kwargs)\u001b[0m\n\u001b[0;32m     52\u001b[0m \u001b[38;5;28;01mdef\u001b[39;00m \u001b[38;5;21m_get_trace\u001b[39m(\u001b[38;5;28mself\u001b[39m, model, guide, args, kwargs):\n\u001b[0;32m     53\u001b[0m \u001b[38;5;250m    \u001b[39m\u001b[38;5;124;03m\"\"\"\u001b[39;00m\n\u001b[0;32m     54\u001b[0m \u001b[38;5;124;03m    Returns a single trace from the guide, and the model that is run\u001b[39;00m\n\u001b[0;32m     55\u001b[0m \u001b[38;5;124;03m    against it.\u001b[39;00m\n\u001b[0;32m     56\u001b[0m \u001b[38;5;124;03m    \"\"\"\u001b[39;00m\n\u001b[1;32m---> 57\u001b[0m     model_trace, guide_trace \u001b[38;5;241m=\u001b[39m \u001b[43mget_importance_trace\u001b[49m\u001b[43m(\u001b[49m\n\u001b[0;32m     58\u001b[0m \u001b[43m        \u001b[49m\u001b[38;5;124;43m\"\u001b[39;49m\u001b[38;5;124;43mflat\u001b[39;49m\u001b[38;5;124;43m\"\u001b[39;49m\u001b[43m,\u001b[49m\u001b[43m \u001b[49m\u001b[38;5;28;43mself\u001b[39;49m\u001b[38;5;241;43m.\u001b[39;49m\u001b[43mmax_plate_nesting\u001b[49m\u001b[43m,\u001b[49m\u001b[43m \u001b[49m\u001b[43mmodel\u001b[49m\u001b[43m,\u001b[49m\u001b[43m \u001b[49m\u001b[43mguide\u001b[49m\u001b[43m,\u001b[49m\u001b[43m \u001b[49m\u001b[43margs\u001b[49m\u001b[43m,\u001b[49m\u001b[43m \u001b[49m\u001b[43mkwargs\u001b[49m\n\u001b[0;32m     59\u001b[0m \u001b[43m    \u001b[49m\u001b[43m)\u001b[49m\n\u001b[0;32m     60\u001b[0m     \u001b[38;5;28;01mif\u001b[39;00m is_validation_enabled():\n\u001b[0;32m     61\u001b[0m         check_if_enumerated(guide_trace)\n",
      "File \u001b[1;32mc:\\Users\\balda\\anaconda3\\envs\\mb_ml\\Lib\\site-packages\\pyro\\infer\\enum.py:75\u001b[0m, in \u001b[0;36mget_importance_trace\u001b[1;34m(graph_type, max_plate_nesting, model, guide, args, kwargs, detach)\u001b[0m\n\u001b[0;32m     72\u001b[0m guide_trace \u001b[38;5;241m=\u001b[39m prune_subsample_sites(guide_trace)\n\u001b[0;32m     73\u001b[0m model_trace \u001b[38;5;241m=\u001b[39m prune_subsample_sites(model_trace)\n\u001b[1;32m---> 75\u001b[0m \u001b[43mmodel_trace\u001b[49m\u001b[38;5;241;43m.\u001b[39;49m\u001b[43mcompute_log_prob\u001b[49m\u001b[43m(\u001b[49m\u001b[43m)\u001b[49m\n\u001b[0;32m     76\u001b[0m guide_trace\u001b[38;5;241m.\u001b[39mcompute_score_parts()\n\u001b[0;32m     77\u001b[0m \u001b[38;5;28;01mif\u001b[39;00m is_validation_enabled():\n",
      "File \u001b[1;32mc:\\Users\\balda\\anaconda3\\envs\\mb_ml\\Lib\\site-packages\\pyro\\poutine\\trace_struct.py:236\u001b[0m, in \u001b[0;36mTrace.compute_log_prob\u001b[1;34m(self, site_filter)\u001b[0m\n\u001b[0;32m    234\u001b[0m     _, exc_value, traceback \u001b[38;5;241m=\u001b[39m sys\u001b[38;5;241m.\u001b[39mexc_info()\n\u001b[0;32m    235\u001b[0m     shapes \u001b[38;5;241m=\u001b[39m \u001b[38;5;28mself\u001b[39m\u001b[38;5;241m.\u001b[39mformat_shapes(last_site\u001b[38;5;241m=\u001b[39msite[\u001b[38;5;124m\"\u001b[39m\u001b[38;5;124mname\u001b[39m\u001b[38;5;124m\"\u001b[39m])\n\u001b[1;32m--> 236\u001b[0m     \u001b[38;5;28;01mraise\u001b[39;00m \u001b[38;5;167;01mValueError\u001b[39;00m(\n\u001b[0;32m    237\u001b[0m         \u001b[38;5;124m\"\u001b[39m\u001b[38;5;124mError while computing log_prob at site \u001b[39m\u001b[38;5;124m'\u001b[39m\u001b[38;5;132;01m{}\u001b[39;00m\u001b[38;5;124m'\u001b[39m\u001b[38;5;124m:\u001b[39m\u001b[38;5;130;01m\\n\u001b[39;00m\u001b[38;5;132;01m{}\u001b[39;00m\u001b[38;5;130;01m\\n\u001b[39;00m\u001b[38;5;132;01m{}\u001b[39;00m\u001b[38;5;124m\"\u001b[39m\u001b[38;5;241m.\u001b[39mformat(\n\u001b[0;32m    238\u001b[0m             name, exc_value, shapes\n\u001b[0;32m    239\u001b[0m         )\n\u001b[0;32m    240\u001b[0m     )\u001b[38;5;241m.\u001b[39mwith_traceback(traceback) \u001b[38;5;28;01mfrom\u001b[39;00m \u001b[38;5;21;01me\u001b[39;00m\n\u001b[0;32m    241\u001b[0m site[\u001b[38;5;124m\"\u001b[39m\u001b[38;5;124munscaled_log_prob\u001b[39m\u001b[38;5;124m\"\u001b[39m] \u001b[38;5;241m=\u001b[39m log_p\n\u001b[0;32m    242\u001b[0m log_p \u001b[38;5;241m=\u001b[39m scale_and_mask(log_p, site[\u001b[38;5;124m\"\u001b[39m\u001b[38;5;124mscale\u001b[39m\u001b[38;5;124m\"\u001b[39m], site[\u001b[38;5;124m\"\u001b[39m\u001b[38;5;124mmask\u001b[39m\u001b[38;5;124m\"\u001b[39m])\n",
      "File \u001b[1;32mc:\\Users\\balda\\anaconda3\\envs\\mb_ml\\Lib\\site-packages\\pyro\\poutine\\trace_struct.py:230\u001b[0m, in \u001b[0;36mTrace.compute_log_prob\u001b[1;34m(self, site_filter)\u001b[0m\n\u001b[0;32m    228\u001b[0m \u001b[38;5;28;01mif\u001b[39;00m \u001b[38;5;124m\"\u001b[39m\u001b[38;5;124mlog_prob\u001b[39m\u001b[38;5;124m\"\u001b[39m \u001b[38;5;129;01mnot\u001b[39;00m \u001b[38;5;129;01min\u001b[39;00m site:\n\u001b[0;32m    229\u001b[0m     \u001b[38;5;28;01mtry\u001b[39;00m:\n\u001b[1;32m--> 230\u001b[0m         log_p \u001b[38;5;241m=\u001b[39m \u001b[43msite\u001b[49m\u001b[43m[\u001b[49m\u001b[38;5;124;43m\"\u001b[39;49m\u001b[38;5;124;43mfn\u001b[39;49m\u001b[38;5;124;43m\"\u001b[39;49m\u001b[43m]\u001b[49m\u001b[38;5;241;43m.\u001b[39;49m\u001b[43mlog_prob\u001b[49m\u001b[43m(\u001b[49m\n\u001b[0;32m    231\u001b[0m \u001b[43m            \u001b[49m\u001b[43msite\u001b[49m\u001b[43m[\u001b[49m\u001b[38;5;124;43m\"\u001b[39;49m\u001b[38;5;124;43mvalue\u001b[39;49m\u001b[38;5;124;43m\"\u001b[39;49m\u001b[43m]\u001b[49m\u001b[43m,\u001b[49m\u001b[43m \u001b[49m\u001b[38;5;241;43m*\u001b[39;49m\u001b[43msite\u001b[49m\u001b[43m[\u001b[49m\u001b[38;5;124;43m\"\u001b[39;49m\u001b[38;5;124;43margs\u001b[39;49m\u001b[38;5;124;43m\"\u001b[39;49m\u001b[43m]\u001b[49m\u001b[43m,\u001b[49m\u001b[43m \u001b[49m\u001b[38;5;241;43m*\u001b[39;49m\u001b[38;5;241;43m*\u001b[39;49m\u001b[43msite\u001b[49m\u001b[43m[\u001b[49m\u001b[38;5;124;43m\"\u001b[39;49m\u001b[38;5;124;43mkwargs\u001b[39;49m\u001b[38;5;124;43m\"\u001b[39;49m\u001b[43m]\u001b[49m\n\u001b[0;32m    232\u001b[0m \u001b[43m        \u001b[49m\u001b[43m)\u001b[49m\n\u001b[0;32m    233\u001b[0m     \u001b[38;5;28;01mexcept\u001b[39;00m \u001b[38;5;167;01mValueError\u001b[39;00m \u001b[38;5;28;01mas\u001b[39;00m e:\n\u001b[0;32m    234\u001b[0m         _, exc_value, traceback \u001b[38;5;241m=\u001b[39m sys\u001b[38;5;241m.\u001b[39mexc_info()\n",
      "File \u001b[1;32mc:\\Users\\balda\\anaconda3\\envs\\mb_ml\\Lib\\site-packages\\torch\\distributions\\bernoulli.py:109\u001b[0m, in \u001b[0;36mBernoulli.log_prob\u001b[1;34m(self, value)\u001b[0m\n\u001b[0;32m    107\u001b[0m \u001b[38;5;28;01mdef\u001b[39;00m \u001b[38;5;21mlog_prob\u001b[39m(\u001b[38;5;28mself\u001b[39m, value):\n\u001b[0;32m    108\u001b[0m     \u001b[38;5;28;01mif\u001b[39;00m \u001b[38;5;28mself\u001b[39m\u001b[38;5;241m.\u001b[39m_validate_args:\n\u001b[1;32m--> 109\u001b[0m         \u001b[38;5;28;43mself\u001b[39;49m\u001b[38;5;241;43m.\u001b[39;49m\u001b[43m_validate_sample\u001b[49m\u001b[43m(\u001b[49m\u001b[43mvalue\u001b[49m\u001b[43m)\u001b[49m\n\u001b[0;32m    110\u001b[0m     logits, value \u001b[38;5;241m=\u001b[39m broadcast_all(\u001b[38;5;28mself\u001b[39m\u001b[38;5;241m.\u001b[39mlogits, value)\n\u001b[0;32m    111\u001b[0m     \u001b[38;5;28;01mreturn\u001b[39;00m \u001b[38;5;241m-\u001b[39mbinary_cross_entropy_with_logits(logits, value, reduction\u001b[38;5;241m=\u001b[39m\u001b[38;5;124m\"\u001b[39m\u001b[38;5;124mnone\u001b[39m\u001b[38;5;124m\"\u001b[39m)\n",
      "File \u001b[1;32mc:\\Users\\balda\\anaconda3\\envs\\mb_ml\\Lib\\site-packages\\torch\\distributions\\distribution.py:312\u001b[0m, in \u001b[0;36mDistribution._validate_sample\u001b[1;34m(self, value)\u001b[0m\n\u001b[0;32m    310\u001b[0m valid \u001b[38;5;241m=\u001b[39m support\u001b[38;5;241m.\u001b[39mcheck(value)\n\u001b[0;32m    311\u001b[0m \u001b[38;5;28;01mif\u001b[39;00m \u001b[38;5;129;01mnot\u001b[39;00m valid\u001b[38;5;241m.\u001b[39mall():\n\u001b[1;32m--> 312\u001b[0m     \u001b[38;5;28;01mraise\u001b[39;00m \u001b[38;5;167;01mValueError\u001b[39;00m(\n\u001b[0;32m    313\u001b[0m         \u001b[38;5;124m\"\u001b[39m\u001b[38;5;124mExpected value argument \u001b[39m\u001b[38;5;124m\"\u001b[39m\n\u001b[0;32m    314\u001b[0m         \u001b[38;5;124mf\u001b[39m\u001b[38;5;124m\"\u001b[39m\u001b[38;5;124m(\u001b[39m\u001b[38;5;132;01m{\u001b[39;00m\u001b[38;5;28mtype\u001b[39m(value)\u001b[38;5;241m.\u001b[39m\u001b[38;5;18m__name__\u001b[39m\u001b[38;5;132;01m}\u001b[39;00m\u001b[38;5;124m of shape \u001b[39m\u001b[38;5;132;01m{\u001b[39;00m\u001b[38;5;28mtuple\u001b[39m(value\u001b[38;5;241m.\u001b[39mshape)\u001b[38;5;132;01m}\u001b[39;00m\u001b[38;5;124m) \u001b[39m\u001b[38;5;124m\"\u001b[39m\n\u001b[0;32m    315\u001b[0m         \u001b[38;5;124mf\u001b[39m\u001b[38;5;124m\"\u001b[39m\u001b[38;5;124mto be within the support (\u001b[39m\u001b[38;5;132;01m{\u001b[39;00m\u001b[38;5;28mrepr\u001b[39m(support)\u001b[38;5;132;01m}\u001b[39;00m\u001b[38;5;124m) \u001b[39m\u001b[38;5;124m\"\u001b[39m\n\u001b[0;32m    316\u001b[0m         \u001b[38;5;124mf\u001b[39m\u001b[38;5;124m\"\u001b[39m\u001b[38;5;124mof the distribution \u001b[39m\u001b[38;5;132;01m{\u001b[39;00m\u001b[38;5;28mrepr\u001b[39m(\u001b[38;5;28mself\u001b[39m)\u001b[38;5;132;01m}\u001b[39;00m\u001b[38;5;124m, \u001b[39m\u001b[38;5;124m\"\u001b[39m\n\u001b[0;32m    317\u001b[0m         \u001b[38;5;124mf\u001b[39m\u001b[38;5;124m\"\u001b[39m\u001b[38;5;124mbut found invalid values:\u001b[39m\u001b[38;5;130;01m\\n\u001b[39;00m\u001b[38;5;132;01m{\u001b[39;00mvalue\u001b[38;5;132;01m}\u001b[39;00m\u001b[38;5;124m\"\u001b[39m\n\u001b[0;32m    318\u001b[0m     )\n",
      "\u001b[1;31mValueError\u001b[0m: Error while computing log_prob at site 'y':\nExpected value argument (Tensor of shape (7446,)) to be within the support (Boolean()) of the distribution Bernoulli(logits: torch.Size([7446])), but found invalid values:\ntensor([-1., -1., -1.,  ..., -1., -1., -1.])\nTrace Shapes:          \n Param Sites:          \nSample Sites:          \n   alpha dist      |  1\n        value      |  1\n     log_prob      |   \n    beta dist      | 31\n        value      | 31\n     log_prob      |   \n       y dist 7446 |   \n        value 7446 |   "
     ]
    }
   ],
   "source": [
    "# Define guide function\n",
    "guide = AutoMultivariateNormal(model)\n",
    "\n",
    "# Reset parameter values\n",
    "pyro.clear_param_store()\n",
    "\n",
    "# Define the number of optimization steps\n",
    "n_steps = 40000\n",
    "\n",
    "# Setup the optimizer\n",
    "adam_params = {\"lr\": 0.001}\n",
    "optimizer = ClippedAdam(adam_params)\n",
    "\n",
    "# Setup the inference algorithm\n",
    "elbo = Trace_ELBO(num_particles=1)\n",
    "svi = SVI(model, guide, optimizer, loss=elbo)\n",
    "\n",
    "# Do gradient steps\n",
    "for step in range(n_steps):\n",
    "    elbo = svi.step(X_train, y_train-1)\n",
    "    if step % 1000 == 0:\n",
    "        print(\"[%d] ELBO: %.1f\" % (step, elbo))"
   ]
  },
  {
   "cell_type": "code",
   "execution_count": null,
   "metadata": {},
   "outputs": [],
   "source": []
  }
 ],
 "metadata": {
  "kernelspec": {
   "display_name": "mb_ml",
   "language": "python",
   "name": "python3"
  },
  "language_info": {
   "codemirror_mode": {
    "name": "ipython",
    "version": 3
   },
   "file_extension": ".py",
   "mimetype": "text/x-python",
   "name": "python",
   "nbconvert_exporter": "python",
   "pygments_lexer": "ipython3",
   "version": "3.12.1"
  }
 },
 "nbformat": 4,
 "nbformat_minor": 2
}
