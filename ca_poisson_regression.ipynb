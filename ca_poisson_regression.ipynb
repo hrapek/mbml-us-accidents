{
 "cells": [
  {
   "cell_type": "code",
   "execution_count": 59,
   "metadata": {},
   "outputs": [],
   "source": [
    "import numpy as np\n",
    "import pandas as pd   # We import Pandas!\n",
    "from matplotlib import pyplot as plt\n",
    "import seaborn as sns\n",
    "from sklearn import linear_model\n",
    "import torch\n",
    "import itertools\n",
    "\n",
    "import pyro\n",
    "import pyro.distributions as dist\n",
    "from pyro.contrib.autoguide import AutoDiagonalNormal, AutoMultivariateNormal, AutoNormal\n",
    "from pyro.infer import MCMC, NUTS, HMC, SVI, Trace_ELBO, Predictive\n",
    "from pyro.optim import Adam, ClippedAdam\n",
    "\n",
    "# fix random generator seed (for reproducibility of results)\n",
    "np.random.seed(42)\n",
    "\n",
    "# matplotlib options\n",
    "palette = itertools.cycle(sns.color_palette())\n",
    "plt.style.use('ggplot')\n",
    "%matplotlib inline\n",
    "plt.rcParams['figure.figsize'] = (16, 10)"
   ]
  },
  {
   "cell_type": "markdown",
   "metadata": {},
   "source": [
    "## 1. Initial Processing"
   ]
  },
  {
   "cell_type": "code",
   "execution_count": 2,
   "metadata": {},
   "outputs": [],
   "source": [
    "# Set your own path\n",
    "path = 'data/CA_final.csv'\n",
    "\n",
    "df = pd.read_csv(path)\n",
    "df.head()"
   ]
  },
  {
   "cell_type": "code",
   "execution_count": 4,
   "metadata": {},
   "outputs": [
    {
     "data": {
      "text/plain": [
       "1741433"
      ]
     },
     "execution_count": 4,
     "metadata": {},
     "output_type": "execute_result"
    }
   ],
   "source": [
    "len(df)"
   ]
  },
  {
   "cell_type": "markdown",
   "metadata": {},
   "source": [
    "We've got 1.7M accident records in CA."
   ]
  },
  {
   "cell_type": "code",
   "execution_count": 5,
   "metadata": {},
   "outputs": [
    {
     "data": {
      "text/plain": [
       "Year\n",
       "2016    140452\n",
       "2017    152748\n",
       "2018    156898\n",
       "2019    213455\n",
       "2020    285532\n",
       "2021    341876\n",
       "2022    375913\n",
       "2023     74559\n",
       "Name: ID, dtype: int64"
      ]
     },
     "execution_count": 5,
     "metadata": {},
     "output_type": "execute_result"
    }
   ],
   "source": [
    "df.groupby('Year')['ID'].size()"
   ]
  },
  {
   "cell_type": "code",
   "execution_count": 7,
   "metadata": {},
   "outputs": [
    {
     "data": {
      "text/html": [
       "<div>\n",
       "<style scoped>\n",
       "    .dataframe tbody tr th:only-of-type {\n",
       "        vertical-align: middle;\n",
       "    }\n",
       "\n",
       "    .dataframe tbody tr th {\n",
       "        vertical-align: top;\n",
       "    }\n",
       "\n",
       "    .dataframe thead th {\n",
       "        text-align: right;\n",
       "    }\n",
       "</style>\n",
       "<table border=\"1\" class=\"dataframe\">\n",
       "  <thead>\n",
       "    <tr style=\"text-align: right;\">\n",
       "      <th></th>\n",
       "      <th>ID</th>\n",
       "      <th>Source</th>\n",
       "      <th>Severity</th>\n",
       "      <th>Start_Time</th>\n",
       "      <th>End_Time</th>\n",
       "      <th>Start_Lat</th>\n",
       "      <th>Start_Lng</th>\n",
       "      <th>End_Lat</th>\n",
       "      <th>End_Lng</th>\n",
       "      <th>Distance(mi)</th>\n",
       "      <th>...</th>\n",
       "      <th>Hour</th>\n",
       "      <th>Minute</th>\n",
       "      <th>Wind_Speed(mph)_Imputed</th>\n",
       "      <th>Humidity(%)_Imputed</th>\n",
       "      <th>Temperature(F)_Imputed</th>\n",
       "      <th>Visibility(mi)_Imputed</th>\n",
       "      <th>Pressure(in)_Imputed</th>\n",
       "      <th>geohash4</th>\n",
       "      <th>Wind_Direction_Imputed</th>\n",
       "      <th>Weather_Condition_Imputed</th>\n",
       "    </tr>\n",
       "  </thead>\n",
       "  <tbody>\n",
       "    <tr>\n",
       "      <th>175167</th>\n",
       "      <td>A-512231</td>\n",
       "      <td>Source2</td>\n",
       "      <td>1</td>\n",
       "      <td>2022-09-08 02:02:05</td>\n",
       "      <td>2022-09-08 04:31:32</td>\n",
       "      <td>34.521172</td>\n",
       "      <td>-117.958076</td>\n",
       "      <td>NaN</td>\n",
       "      <td>NaN</td>\n",
       "      <td>0.0</td>\n",
       "      <td>...</td>\n",
       "      <td>2</td>\n",
       "      <td>2</td>\n",
       "      <td>6.0</td>\n",
       "      <td>28.0</td>\n",
       "      <td>86.0</td>\n",
       "      <td>10.0</td>\n",
       "      <td>27.35</td>\n",
       "      <td>9qhh</td>\n",
       "      <td>E</td>\n",
       "      <td>Thunderstorms and Rain</td>\n",
       "    </tr>\n",
       "    <tr>\n",
       "      <th>175168</th>\n",
       "      <td>A-512257</td>\n",
       "      <td>Source2</td>\n",
       "      <td>1</td>\n",
       "      <td>2022-09-08 02:02:58</td>\n",
       "      <td>2022-09-08 02:32:20</td>\n",
       "      <td>34.177322</td>\n",
       "      <td>-118.877014</td>\n",
       "      <td>NaN</td>\n",
       "      <td>NaN</td>\n",
       "      <td>0.0</td>\n",
       "      <td>...</td>\n",
       "      <td>2</td>\n",
       "      <td>2</td>\n",
       "      <td>3.0</td>\n",
       "      <td>87.0</td>\n",
       "      <td>68.0</td>\n",
       "      <td>9.0</td>\n",
       "      <td>29.78</td>\n",
       "      <td>9q56</td>\n",
       "      <td>WNW</td>\n",
       "      <td>Thunderstorms and Rain</td>\n",
       "    </tr>\n",
       "    <tr>\n",
       "      <th>175169</th>\n",
       "      <td>A-512277</td>\n",
       "      <td>Source2</td>\n",
       "      <td>3</td>\n",
       "      <td>2022-09-07 21:54:19</td>\n",
       "      <td>2022-09-07 22:38:20</td>\n",
       "      <td>38.593945</td>\n",
       "      <td>-121.504059</td>\n",
       "      <td>NaN</td>\n",
       "      <td>NaN</td>\n",
       "      <td>0.0</td>\n",
       "      <td>...</td>\n",
       "      <td>21</td>\n",
       "      <td>54</td>\n",
       "      <td>0.0</td>\n",
       "      <td>28.0</td>\n",
       "      <td>83.0</td>\n",
       "      <td>10.0</td>\n",
       "      <td>29.83</td>\n",
       "      <td>9qce</td>\n",
       "      <td>VAR</td>\n",
       "      <td>Thunderstorms and Rain</td>\n",
       "    </tr>\n",
       "    <tr>\n",
       "      <th>175170</th>\n",
       "      <td>A-512340</td>\n",
       "      <td>Source2</td>\n",
       "      <td>2</td>\n",
       "      <td>2022-09-08 02:03:43</td>\n",
       "      <td>2022-09-08 02:33:13</td>\n",
       "      <td>33.850147</td>\n",
       "      <td>-117.875938</td>\n",
       "      <td>NaN</td>\n",
       "      <td>NaN</td>\n",
       "      <td>0.0</td>\n",
       "      <td>...</td>\n",
       "      <td>2</td>\n",
       "      <td>3</td>\n",
       "      <td>0.0</td>\n",
       "      <td>66.0</td>\n",
       "      <td>79.0</td>\n",
       "      <td>10.0</td>\n",
       "      <td>29.76</td>\n",
       "      <td>9qh0</td>\n",
       "      <td>VAR</td>\n",
       "      <td>Thunderstorms and Rain</td>\n",
       "    </tr>\n",
       "    <tr>\n",
       "      <th>175171</th>\n",
       "      <td>A-512341</td>\n",
       "      <td>Source3</td>\n",
       "      <td>1</td>\n",
       "      <td>2022-09-08 02:30:59</td>\n",
       "      <td>2022-09-08 03:00:27</td>\n",
       "      <td>33.884056</td>\n",
       "      <td>-118.029007</td>\n",
       "      <td>NaN</td>\n",
       "      <td>NaN</td>\n",
       "      <td>0.0</td>\n",
       "      <td>...</td>\n",
       "      <td>2</td>\n",
       "      <td>30</td>\n",
       "      <td>0.0</td>\n",
       "      <td>66.0</td>\n",
       "      <td>78.0</td>\n",
       "      <td>10.0</td>\n",
       "      <td>29.74</td>\n",
       "      <td>9qh0</td>\n",
       "      <td>VAR</td>\n",
       "      <td>Thunderstorms and Rain</td>\n",
       "    </tr>\n",
       "  </tbody>\n",
       "</table>\n",
       "<p>5 rows × 61 columns</p>\n",
       "</div>"
      ],
      "text/plain": [
       "              ID   Source  Severity           Start_Time             End_Time  \\\n",
       "175167  A-512231  Source2         1  2022-09-08 02:02:05  2022-09-08 04:31:32   \n",
       "175168  A-512257  Source2         1  2022-09-08 02:02:58  2022-09-08 02:32:20   \n",
       "175169  A-512277  Source2         3  2022-09-07 21:54:19  2022-09-07 22:38:20   \n",
       "175170  A-512340  Source2         2  2022-09-08 02:03:43  2022-09-08 02:33:13   \n",
       "175171  A-512341  Source3         1  2022-09-08 02:30:59  2022-09-08 03:00:27   \n",
       "\n",
       "        Start_Lat   Start_Lng  End_Lat  End_Lng  Distance(mi)  ... Hour  \\\n",
       "175167  34.521172 -117.958076      NaN      NaN           0.0  ...    2   \n",
       "175168  34.177322 -118.877014      NaN      NaN           0.0  ...    2   \n",
       "175169  38.593945 -121.504059      NaN      NaN           0.0  ...   21   \n",
       "175170  33.850147 -117.875938      NaN      NaN           0.0  ...    2   \n",
       "175171  33.884056 -118.029007      NaN      NaN           0.0  ...    2   \n",
       "\n",
       "       Minute Wind_Speed(mph)_Imputed Humidity(%)_Imputed  \\\n",
       "175167      2                     6.0                28.0   \n",
       "175168      2                     3.0                87.0   \n",
       "175169     54                     0.0                28.0   \n",
       "175170      3                     0.0                66.0   \n",
       "175171     30                     0.0                66.0   \n",
       "\n",
       "       Temperature(F)_Imputed Visibility(mi)_Imputed Pressure(in)_Imputed  \\\n",
       "175167                   86.0                   10.0                27.35   \n",
       "175168                   68.0                    9.0                29.78   \n",
       "175169                   83.0                   10.0                29.83   \n",
       "175170                   79.0                   10.0                29.76   \n",
       "175171                   78.0                   10.0                29.74   \n",
       "\n",
       "       geohash4 Wind_Direction_Imputed Weather_Condition_Imputed  \n",
       "175167     9qhh                      E    Thunderstorms and Rain  \n",
       "175168     9q56                    WNW    Thunderstorms and Rain  \n",
       "175169     9qce                    VAR    Thunderstorms and Rain  \n",
       "175170     9qh0                    VAR    Thunderstorms and Rain  \n",
       "175171     9qh0                    VAR    Thunderstorms and Rain  \n",
       "\n",
       "[5 rows x 61 columns]"
      ]
     },
     "execution_count": 7,
     "metadata": {},
     "output_type": "execute_result"
    }
   ],
   "source": [
    "df_2022 = df[df['Year'] == 2022]\n",
    "df_2022.head()"
   ]
  },
  {
   "cell_type": "code",
   "execution_count": 8,
   "metadata": {},
   "outputs": [
    {
     "data": {
      "text/plain": [
       "('2022-01-01 00:02:00', '2022-12-31 23:59:00')"
      ]
     },
     "execution_count": 8,
     "metadata": {},
     "output_type": "execute_result"
    }
   ],
   "source": [
    "df_2022['Start_Time'].min(), df_2022['Start_Time'].max()"
   ]
  },
  {
   "cell_type": "code",
   "execution_count": 11,
   "metadata": {},
   "outputs": [],
   "source": [
    "# Saving data for 2022 to lighten memory.\n",
    "save_path = 'data/data_2022.csv'\n",
    "df_2022.to_csv(save_path)"
   ]
  },
  {
   "cell_type": "markdown",
   "metadata": {},
   "source": [
    "If you have already saved data for 2022 start here"
   ]
  },
  {
   "cell_type": "code",
   "execution_count": 3,
   "metadata": {},
   "outputs": [],
   "source": [
    "# Load 2022 data\n",
    "load_path = 'data/data_2022.csv'\n",
    "df = pd.read_csv(load_path)"
   ]
  },
  {
   "cell_type": "code",
   "execution_count": 4,
   "metadata": {},
   "outputs": [
    {
     "data": {
      "text/plain": [
       "375913"
      ]
     },
     "execution_count": 4,
     "metadata": {},
     "output_type": "execute_result"
    }
   ],
   "source": [
    "len(df)"
   ]
  },
  {
   "cell_type": "code",
   "execution_count": 16,
   "metadata": {},
   "outputs": [],
   "source": [
    "df['Start_Time'] = pd.to_datetime(df['Start_Time'])"
   ]
  },
  {
   "cell_type": "code",
   "execution_count": 5,
   "metadata": {},
   "outputs": [
    {
     "name": "stderr",
     "output_type": "stream",
     "text": [
      "C:\\Users\\balda\\AppData\\Local\\Temp\\ipykernel_20292\\2312101316.py:4: FutureWarning: 'H' is deprecated and will be removed in a future version, please use 'h' instead.\n",
      "  hourly_range = pd.date_range(start=start_time, end=end_time, freq='H')\n"
     ]
    }
   ],
   "source": [
    "# Creating a time range with index representing consecutive hours in 2022\n",
    "start_time = pd.Timestamp('2022-01-01 00:00:00')\n",
    "end_time = pd.Timestamp('2022-12-31 23:00:00')\n",
    "hourly_range = pd.date_range(start=start_time, end=end_time, freq='H')\n",
    "hourly_df = pd.DataFrame(hourly_range, columns=['hour'])\n",
    "hourly_df['hour_index'] = range(1, len(hourly_range) + 1)\n"
   ]
  },
  {
   "cell_type": "code",
   "execution_count": 6,
   "metadata": {},
   "outputs": [
    {
     "data": {
      "text/html": [
       "<div>\n",
       "<style scoped>\n",
       "    .dataframe tbody tr th:only-of-type {\n",
       "        vertical-align: middle;\n",
       "    }\n",
       "\n",
       "    .dataframe tbody tr th {\n",
       "        vertical-align: top;\n",
       "    }\n",
       "\n",
       "    .dataframe thead th {\n",
       "        text-align: right;\n",
       "    }\n",
       "</style>\n",
       "<table border=\"1\" class=\"dataframe\">\n",
       "  <thead>\n",
       "    <tr style=\"text-align: right;\">\n",
       "      <th></th>\n",
       "      <th>hour</th>\n",
       "      <th>hour_index</th>\n",
       "    </tr>\n",
       "  </thead>\n",
       "  <tbody>\n",
       "    <tr>\n",
       "      <th>0</th>\n",
       "      <td>2022-01-01 00:00:00</td>\n",
       "      <td>1</td>\n",
       "    </tr>\n",
       "    <tr>\n",
       "      <th>1</th>\n",
       "      <td>2022-01-01 01:00:00</td>\n",
       "      <td>2</td>\n",
       "    </tr>\n",
       "    <tr>\n",
       "      <th>2</th>\n",
       "      <td>2022-01-01 02:00:00</td>\n",
       "      <td>3</td>\n",
       "    </tr>\n",
       "    <tr>\n",
       "      <th>3</th>\n",
       "      <td>2022-01-01 03:00:00</td>\n",
       "      <td>4</td>\n",
       "    </tr>\n",
       "    <tr>\n",
       "      <th>4</th>\n",
       "      <td>2022-01-01 04:00:00</td>\n",
       "      <td>5</td>\n",
       "    </tr>\n",
       "  </tbody>\n",
       "</table>\n",
       "</div>"
      ],
      "text/plain": [
       "                 hour  hour_index\n",
       "0 2022-01-01 00:00:00           1\n",
       "1 2022-01-01 01:00:00           2\n",
       "2 2022-01-01 02:00:00           3\n",
       "3 2022-01-01 03:00:00           4\n",
       "4 2022-01-01 04:00:00           5"
      ]
     },
     "execution_count": 6,
     "metadata": {},
     "output_type": "execute_result"
    }
   ],
   "source": [
    "hourly_df.head()"
   ]
  },
  {
   "cell_type": "code",
   "execution_count": 24,
   "metadata": {},
   "outputs": [
    {
     "data": {
      "text/plain": [
       "8760"
      ]
     },
     "execution_count": 24,
     "metadata": {},
     "output_type": "execute_result"
    }
   ],
   "source": [
    "len(hourly_df)"
   ]
  },
  {
   "cell_type": "code",
   "execution_count": 7,
   "metadata": {},
   "outputs": [],
   "source": [
    "geohashes = df['geohash5'].unique()\n",
    "multi_index = pd.MultiIndex.from_product([hourly_range, geohashes], names=['hour', 'geohash5'])\n",
    "multi_index_df = pd.DataFrame(index=multi_index).reset_index()"
   ]
  },
  {
   "cell_type": "code",
   "execution_count": 8,
   "metadata": {},
   "outputs": [
    {
     "data": {
      "text/html": [
       "<div>\n",
       "<style scoped>\n",
       "    .dataframe tbody tr th:only-of-type {\n",
       "        vertical-align: middle;\n",
       "    }\n",
       "\n",
       "    .dataframe tbody tr th {\n",
       "        vertical-align: top;\n",
       "    }\n",
       "\n",
       "    .dataframe thead th {\n",
       "        text-align: right;\n",
       "    }\n",
       "</style>\n",
       "<table border=\"1\" class=\"dataframe\">\n",
       "  <thead>\n",
       "    <tr style=\"text-align: right;\">\n",
       "      <th></th>\n",
       "      <th>hour</th>\n",
       "      <th>geohash5</th>\n",
       "    </tr>\n",
       "  </thead>\n",
       "  <tbody>\n",
       "    <tr>\n",
       "      <th>0</th>\n",
       "      <td>2022-01-01</td>\n",
       "      <td>9qhh7</td>\n",
       "    </tr>\n",
       "    <tr>\n",
       "      <th>1</th>\n",
       "      <td>2022-01-01</td>\n",
       "      <td>9q56q</td>\n",
       "    </tr>\n",
       "    <tr>\n",
       "      <th>2</th>\n",
       "      <td>2022-01-01</td>\n",
       "      <td>9qcee</td>\n",
       "    </tr>\n",
       "    <tr>\n",
       "      <th>3</th>\n",
       "      <td>2022-01-01</td>\n",
       "      <td>9qh0t</td>\n",
       "    </tr>\n",
       "    <tr>\n",
       "      <th>4</th>\n",
       "      <td>2022-01-01</td>\n",
       "      <td>9qh0f</td>\n",
       "    </tr>\n",
       "  </tbody>\n",
       "</table>\n",
       "</div>"
      ],
      "text/plain": [
       "        hour geohash5\n",
       "0 2022-01-01    9qhh7\n",
       "1 2022-01-01    9q56q\n",
       "2 2022-01-01    9qcee\n",
       "3 2022-01-01    9qh0t\n",
       "4 2022-01-01    9qh0f"
      ]
     },
     "execution_count": 8,
     "metadata": {},
     "output_type": "execute_result"
    }
   ],
   "source": [
    "multi_index_df.head()"
   ]
  },
  {
   "cell_type": "code",
   "execution_count": 57,
   "metadata": {},
   "outputs": [
    {
     "name": "stderr",
     "output_type": "stream",
     "text": [
      "C:\\Users\\balda\\AppData\\Local\\Temp\\ipykernel_20292\\3631858385.py:2: FutureWarning: 'H' is deprecated and will be removed in a future version, please use 'h' instead.\n",
      "  accident_counts = df.groupby([pd.Grouper(key='Start_Time', freq='H'), 'geohash5']).size().reset_index(name='accident_count')\n"
     ]
    }
   ],
   "source": [
    "# Step 6: Count accidents per hour and geohash\n",
    "accident_counts = df.groupby([pd.Grouper(key='Start_Time', freq='H'), 'geohash5']).size().reset_index(name='accident_count')\n",
    "\n",
    "# Step 7: Merge the multi-index DataFrame with the accident counts\n",
    "merged_df = pd.merge(multi_index_df, accident_counts, how='left', left_on=['hour', 'geohash5'], right_on=['Start_Time', 'geohash5'])"
   ]
  },
  {
   "cell_type": "markdown",
   "metadata": {},
   "source": [
    "Let's add one_hot_encoded features for hour of the day and day of the week."
   ]
  },
  {
   "cell_type": "code",
   "execution_count": 58,
   "metadata": {},
   "outputs": [
    {
     "name": "stdout",
     "output_type": "stream",
     "text": [
      "                        hour geohash5  accident_count  hour_of_day  \\\n",
      "0        2022-01-01 00:00:00    9qhh7             0.0            0   \n",
      "1        2022-01-01 00:00:00    9q56q             1.0            0   \n",
      "2        2022-01-01 00:00:00    9qcee             0.0            0   \n",
      "3        2022-01-01 00:00:00    9qh0t             0.0            0   \n",
      "4        2022-01-01 00:00:00    9qh0f             0.0            0   \n",
      "...                      ...      ...             ...          ...   \n",
      "63448675 2022-12-31 23:00:00    9r4rr             0.0           23   \n",
      "63448676 2022-12-31 23:00:00    9r354             0.0           23   \n",
      "63448677 2022-12-31 23:00:00    9r3q8             0.0           23   \n",
      "63448678 2022-12-31 23:00:00    9r4n7             0.0           23   \n",
      "63448679 2022-12-31 23:00:00    9r0wf             0.0           23   \n",
      "\n",
      "          day_of_week  hour_0  hour_1  hour_2  hour_3  hour_4  ...  hour_21  \\\n",
      "0                   5    True   False   False   False   False  ...    False   \n",
      "1                   5    True   False   False   False   False  ...    False   \n",
      "2                   5    True   False   False   False   False  ...    False   \n",
      "3                   5    True   False   False   False   False  ...    False   \n",
      "4                   5    True   False   False   False   False  ...    False   \n",
      "...               ...     ...     ...     ...     ...     ...  ...      ...   \n",
      "63448675            5   False   False   False   False   False  ...    False   \n",
      "63448676            5   False   False   False   False   False  ...    False   \n",
      "63448677            5   False   False   False   False   False  ...    False   \n",
      "63448678            5   False   False   False   False   False  ...    False   \n",
      "63448679            5   False   False   False   False   False  ...    False   \n",
      "\n",
      "          hour_22  hour_23  day_0  day_1  day_2  day_3  day_4  day_5  day_6  \n",
      "0           False    False  False  False  False  False  False   True  False  \n",
      "1           False    False  False  False  False  False  False   True  False  \n",
      "2           False    False  False  False  False  False  False   True  False  \n",
      "3           False    False  False  False  False  False  False   True  False  \n",
      "4           False    False  False  False  False  False  False   True  False  \n",
      "...           ...      ...    ...    ...    ...    ...    ...    ...    ...  \n",
      "63448675    False     True  False  False  False  False  False   True  False  \n",
      "63448676    False     True  False  False  False  False  False   True  False  \n",
      "63448677    False     True  False  False  False  False  False   True  False  \n",
      "63448678    False     True  False  False  False  False  False   True  False  \n",
      "63448679    False     True  False  False  False  False  False   True  False  \n",
      "\n",
      "[63448680 rows x 36 columns]\n"
     ]
    }
   ],
   "source": [
    "merged_df = merged_df.drop(columns=['Start_Time']).fillna(value=0)\n",
    "\n",
    "# Assuming 'df' is your DataFrame with the structure you provided\n",
    "# If not already in datetime format, ensure 'hour' is in datetime format\n",
    "merged_df['hour'] = pd.to_datetime(merged_df['hour'])\n",
    "\n",
    "# Step 1: Extract hour of the day and day of the week\n",
    "merged_df['hour_of_day'] = merged_df['hour'].dt.hour\n",
    "merged_df['day_of_week'] = merged_df['hour'].dt.dayofweek  # Monday=0, Sunday=6\n",
    "\n",
    "# Step 2: Generate one-hot encoded columns\n",
    "hour_dummies = pd.get_dummies(merged_df['hour_of_day'], prefix='hour')\n",
    "day_dummies = pd.get_dummies(merged_df['day_of_week'], prefix='day')\n",
    "\n",
    "# Step 3: Concatenate these new columns to the original DataFrame\n",
    "merged_df = pd.concat([merged_df, hour_dummies, day_dummies], axis=1)\n",
    "\n",
    "# Display the final DataFrame\n",
    "print(merged_df)"
   ]
  },
  {
   "cell_type": "markdown",
   "metadata": {},
   "source": [
    "There's a lot of hashes and a lot of hours so let's take just one hash for now and try to model it. Going for hash `9q5cw` - one with the most accidents in 2022."
   ]
  },
  {
   "cell_type": "code",
   "execution_count": 180,
   "metadata": {},
   "outputs": [],
   "source": [
    "merged_df.to_csv('data/merged_df.csv')"
   ]
  },
  {
   "cell_type": "code",
   "execution_count": 39,
   "metadata": {},
   "outputs": [],
   "source": [
    "merged_df = pd.read_csv('data/merged_df.csv', index_col=[0])"
   ]
  },
  {
   "cell_type": "code",
   "execution_count": 40,
   "metadata": {},
   "outputs": [],
   "source": [
    "one_hash_df = merged_df[merged_df['geohash5'] == '9q5cw']"
   ]
  },
  {
   "cell_type": "code",
   "execution_count": 41,
   "metadata": {},
   "outputs": [
    {
     "data": {
      "text/html": [
       "<div>\n",
       "<style scoped>\n",
       "    .dataframe tbody tr th:only-of-type {\n",
       "        vertical-align: middle;\n",
       "    }\n",
       "\n",
       "    .dataframe tbody tr th {\n",
       "        vertical-align: top;\n",
       "    }\n",
       "\n",
       "    .dataframe thead th {\n",
       "        text-align: right;\n",
       "    }\n",
       "</style>\n",
       "<table border=\"1\" class=\"dataframe\">\n",
       "  <thead>\n",
       "    <tr style=\"text-align: right;\">\n",
       "      <th></th>\n",
       "      <th>hour</th>\n",
       "      <th>geohash5</th>\n",
       "      <th>accident_count</th>\n",
       "      <th>hour_of_day</th>\n",
       "      <th>day_of_week</th>\n",
       "      <th>hour_0</th>\n",
       "      <th>hour_1</th>\n",
       "      <th>hour_2</th>\n",
       "      <th>hour_3</th>\n",
       "      <th>hour_4</th>\n",
       "      <th>...</th>\n",
       "      <th>hour_21</th>\n",
       "      <th>hour_22</th>\n",
       "      <th>hour_23</th>\n",
       "      <th>day_0</th>\n",
       "      <th>day_1</th>\n",
       "      <th>day_2</th>\n",
       "      <th>day_3</th>\n",
       "      <th>day_4</th>\n",
       "      <th>day_5</th>\n",
       "      <th>day_6</th>\n",
       "    </tr>\n",
       "  </thead>\n",
       "  <tbody>\n",
       "    <tr>\n",
       "      <th>116</th>\n",
       "      <td>2022-01-01</td>\n",
       "      <td>9q5cw</td>\n",
       "      <td>0.0</td>\n",
       "      <td>0</td>\n",
       "      <td>5</td>\n",
       "      <td>True</td>\n",
       "      <td>False</td>\n",
       "      <td>False</td>\n",
       "      <td>False</td>\n",
       "      <td>False</td>\n",
       "      <td>...</td>\n",
       "      <td>False</td>\n",
       "      <td>False</td>\n",
       "      <td>False</td>\n",
       "      <td>False</td>\n",
       "      <td>False</td>\n",
       "      <td>False</td>\n",
       "      <td>False</td>\n",
       "      <td>False</td>\n",
       "      <td>True</td>\n",
       "      <td>False</td>\n",
       "    </tr>\n",
       "    <tr>\n",
       "      <th>7359</th>\n",
       "      <td>2022-01-01 01:00:00</td>\n",
       "      <td>9q5cw</td>\n",
       "      <td>0.0</td>\n",
       "      <td>1</td>\n",
       "      <td>5</td>\n",
       "      <td>False</td>\n",
       "      <td>True</td>\n",
       "      <td>False</td>\n",
       "      <td>False</td>\n",
       "      <td>False</td>\n",
       "      <td>...</td>\n",
       "      <td>False</td>\n",
       "      <td>False</td>\n",
       "      <td>False</td>\n",
       "      <td>False</td>\n",
       "      <td>False</td>\n",
       "      <td>False</td>\n",
       "      <td>False</td>\n",
       "      <td>False</td>\n",
       "      <td>True</td>\n",
       "      <td>False</td>\n",
       "    </tr>\n",
       "    <tr>\n",
       "      <th>14602</th>\n",
       "      <td>2022-01-01 02:00:00</td>\n",
       "      <td>9q5cw</td>\n",
       "      <td>0.0</td>\n",
       "      <td>2</td>\n",
       "      <td>5</td>\n",
       "      <td>False</td>\n",
       "      <td>False</td>\n",
       "      <td>True</td>\n",
       "      <td>False</td>\n",
       "      <td>False</td>\n",
       "      <td>...</td>\n",
       "      <td>False</td>\n",
       "      <td>False</td>\n",
       "      <td>False</td>\n",
       "      <td>False</td>\n",
       "      <td>False</td>\n",
       "      <td>False</td>\n",
       "      <td>False</td>\n",
       "      <td>False</td>\n",
       "      <td>True</td>\n",
       "      <td>False</td>\n",
       "    </tr>\n",
       "    <tr>\n",
       "      <th>21845</th>\n",
       "      <td>2022-01-01 03:00:00</td>\n",
       "      <td>9q5cw</td>\n",
       "      <td>2.0</td>\n",
       "      <td>3</td>\n",
       "      <td>5</td>\n",
       "      <td>False</td>\n",
       "      <td>False</td>\n",
       "      <td>False</td>\n",
       "      <td>True</td>\n",
       "      <td>False</td>\n",
       "      <td>...</td>\n",
       "      <td>False</td>\n",
       "      <td>False</td>\n",
       "      <td>False</td>\n",
       "      <td>False</td>\n",
       "      <td>False</td>\n",
       "      <td>False</td>\n",
       "      <td>False</td>\n",
       "      <td>False</td>\n",
       "      <td>True</td>\n",
       "      <td>False</td>\n",
       "    </tr>\n",
       "    <tr>\n",
       "      <th>29088</th>\n",
       "      <td>2022-01-01 04:00:00</td>\n",
       "      <td>9q5cw</td>\n",
       "      <td>0.0</td>\n",
       "      <td>4</td>\n",
       "      <td>5</td>\n",
       "      <td>False</td>\n",
       "      <td>False</td>\n",
       "      <td>False</td>\n",
       "      <td>False</td>\n",
       "      <td>True</td>\n",
       "      <td>...</td>\n",
       "      <td>False</td>\n",
       "      <td>False</td>\n",
       "      <td>False</td>\n",
       "      <td>False</td>\n",
       "      <td>False</td>\n",
       "      <td>False</td>\n",
       "      <td>False</td>\n",
       "      <td>False</td>\n",
       "      <td>True</td>\n",
       "      <td>False</td>\n",
       "    </tr>\n",
       "    <tr>\n",
       "      <th>...</th>\n",
       "      <td>...</td>\n",
       "      <td>...</td>\n",
       "      <td>...</td>\n",
       "      <td>...</td>\n",
       "      <td>...</td>\n",
       "      <td>...</td>\n",
       "      <td>...</td>\n",
       "      <td>...</td>\n",
       "      <td>...</td>\n",
       "      <td>...</td>\n",
       "      <td>...</td>\n",
       "      <td>...</td>\n",
       "      <td>...</td>\n",
       "      <td>...</td>\n",
       "      <td>...</td>\n",
       "      <td>...</td>\n",
       "      <td>...</td>\n",
       "      <td>...</td>\n",
       "      <td>...</td>\n",
       "      <td>...</td>\n",
       "      <td>...</td>\n",
       "    </tr>\n",
       "    <tr>\n",
       "      <th>63412581</th>\n",
       "      <td>2022-12-31 19:00:00</td>\n",
       "      <td>9q5cw</td>\n",
       "      <td>4.0</td>\n",
       "      <td>19</td>\n",
       "      <td>5</td>\n",
       "      <td>False</td>\n",
       "      <td>False</td>\n",
       "      <td>False</td>\n",
       "      <td>False</td>\n",
       "      <td>False</td>\n",
       "      <td>...</td>\n",
       "      <td>False</td>\n",
       "      <td>False</td>\n",
       "      <td>False</td>\n",
       "      <td>False</td>\n",
       "      <td>False</td>\n",
       "      <td>False</td>\n",
       "      <td>False</td>\n",
       "      <td>False</td>\n",
       "      <td>True</td>\n",
       "      <td>False</td>\n",
       "    </tr>\n",
       "    <tr>\n",
       "      <th>63419824</th>\n",
       "      <td>2022-12-31 20:00:00</td>\n",
       "      <td>9q5cw</td>\n",
       "      <td>3.0</td>\n",
       "      <td>20</td>\n",
       "      <td>5</td>\n",
       "      <td>False</td>\n",
       "      <td>False</td>\n",
       "      <td>False</td>\n",
       "      <td>False</td>\n",
       "      <td>False</td>\n",
       "      <td>...</td>\n",
       "      <td>False</td>\n",
       "      <td>False</td>\n",
       "      <td>False</td>\n",
       "      <td>False</td>\n",
       "      <td>False</td>\n",
       "      <td>False</td>\n",
       "      <td>False</td>\n",
       "      <td>False</td>\n",
       "      <td>True</td>\n",
       "      <td>False</td>\n",
       "    </tr>\n",
       "    <tr>\n",
       "      <th>63427067</th>\n",
       "      <td>2022-12-31 21:00:00</td>\n",
       "      <td>9q5cw</td>\n",
       "      <td>0.0</td>\n",
       "      <td>21</td>\n",
       "      <td>5</td>\n",
       "      <td>False</td>\n",
       "      <td>False</td>\n",
       "      <td>False</td>\n",
       "      <td>False</td>\n",
       "      <td>False</td>\n",
       "      <td>...</td>\n",
       "      <td>True</td>\n",
       "      <td>False</td>\n",
       "      <td>False</td>\n",
       "      <td>False</td>\n",
       "      <td>False</td>\n",
       "      <td>False</td>\n",
       "      <td>False</td>\n",
       "      <td>False</td>\n",
       "      <td>True</td>\n",
       "      <td>False</td>\n",
       "    </tr>\n",
       "    <tr>\n",
       "      <th>63434310</th>\n",
       "      <td>2022-12-31 22:00:00</td>\n",
       "      <td>9q5cw</td>\n",
       "      <td>7.0</td>\n",
       "      <td>22</td>\n",
       "      <td>5</td>\n",
       "      <td>False</td>\n",
       "      <td>False</td>\n",
       "      <td>False</td>\n",
       "      <td>False</td>\n",
       "      <td>False</td>\n",
       "      <td>...</td>\n",
       "      <td>False</td>\n",
       "      <td>True</td>\n",
       "      <td>False</td>\n",
       "      <td>False</td>\n",
       "      <td>False</td>\n",
       "      <td>False</td>\n",
       "      <td>False</td>\n",
       "      <td>False</td>\n",
       "      <td>True</td>\n",
       "      <td>False</td>\n",
       "    </tr>\n",
       "    <tr>\n",
       "      <th>63441553</th>\n",
       "      <td>2022-12-31 23:00:00</td>\n",
       "      <td>9q5cw</td>\n",
       "      <td>0.0</td>\n",
       "      <td>23</td>\n",
       "      <td>5</td>\n",
       "      <td>False</td>\n",
       "      <td>False</td>\n",
       "      <td>False</td>\n",
       "      <td>False</td>\n",
       "      <td>False</td>\n",
       "      <td>...</td>\n",
       "      <td>False</td>\n",
       "      <td>False</td>\n",
       "      <td>True</td>\n",
       "      <td>False</td>\n",
       "      <td>False</td>\n",
       "      <td>False</td>\n",
       "      <td>False</td>\n",
       "      <td>False</td>\n",
       "      <td>True</td>\n",
       "      <td>False</td>\n",
       "    </tr>\n",
       "  </tbody>\n",
       "</table>\n",
       "<p>8760 rows × 36 columns</p>\n",
       "</div>"
      ],
      "text/plain": [
       "                         hour geohash5  accident_count  hour_of_day  \\\n",
       "116                2022-01-01    9q5cw             0.0            0   \n",
       "7359      2022-01-01 01:00:00    9q5cw             0.0            1   \n",
       "14602     2022-01-01 02:00:00    9q5cw             0.0            2   \n",
       "21845     2022-01-01 03:00:00    9q5cw             2.0            3   \n",
       "29088     2022-01-01 04:00:00    9q5cw             0.0            4   \n",
       "...                       ...      ...             ...          ...   \n",
       "63412581  2022-12-31 19:00:00    9q5cw             4.0           19   \n",
       "63419824  2022-12-31 20:00:00    9q5cw             3.0           20   \n",
       "63427067  2022-12-31 21:00:00    9q5cw             0.0           21   \n",
       "63434310  2022-12-31 22:00:00    9q5cw             7.0           22   \n",
       "63441553  2022-12-31 23:00:00    9q5cw             0.0           23   \n",
       "\n",
       "          day_of_week  hour_0  hour_1  hour_2  hour_3  hour_4  ...  hour_21  \\\n",
       "116                 5    True   False   False   False   False  ...    False   \n",
       "7359                5   False    True   False   False   False  ...    False   \n",
       "14602               5   False   False    True   False   False  ...    False   \n",
       "21845               5   False   False   False    True   False  ...    False   \n",
       "29088               5   False   False   False   False    True  ...    False   \n",
       "...               ...     ...     ...     ...     ...     ...  ...      ...   \n",
       "63412581            5   False   False   False   False   False  ...    False   \n",
       "63419824            5   False   False   False   False   False  ...    False   \n",
       "63427067            5   False   False   False   False   False  ...     True   \n",
       "63434310            5   False   False   False   False   False  ...    False   \n",
       "63441553            5   False   False   False   False   False  ...    False   \n",
       "\n",
       "          hour_22  hour_23  day_0  day_1  day_2  day_3  day_4  day_5  day_6  \n",
       "116         False    False  False  False  False  False  False   True  False  \n",
       "7359        False    False  False  False  False  False  False   True  False  \n",
       "14602       False    False  False  False  False  False  False   True  False  \n",
       "21845       False    False  False  False  False  False  False   True  False  \n",
       "29088       False    False  False  False  False  False  False   True  False  \n",
       "...           ...      ...    ...    ...    ...    ...    ...    ...    ...  \n",
       "63412581    False    False  False  False  False  False  False   True  False  \n",
       "63419824    False    False  False  False  False  False  False   True  False  \n",
       "63427067    False    False  False  False  False  False  False   True  False  \n",
       "63434310     True    False  False  False  False  False  False   True  False  \n",
       "63441553    False     True  False  False  False  False  False   True  False  \n",
       "\n",
       "[8760 rows x 36 columns]"
      ]
     },
     "execution_count": 41,
     "metadata": {},
     "output_type": "execute_result"
    }
   ],
   "source": [
    "one_hash_df"
   ]
  },
  {
   "cell_type": "markdown",
   "metadata": {},
   "source": [
    "## 2. Training"
   ]
  },
  {
   "cell_type": "markdown",
   "metadata": {},
   "source": [
    "The code I am using here is from exercise 06 Part 2."
   ]
  },
  {
   "cell_type": "code",
   "execution_count": 42,
   "metadata": {},
   "outputs": [
    {
     "name": "stdout",
     "output_type": "stream",
     "text": [
      " X_train: (7008, 31) \n",
      " X_test: (1752, 31) \n",
      " y_train: (7008,) \n",
      " y_test: (1752,)\n"
     ]
    }
   ],
   "source": [
    "# Define target\n",
    "y = np.array(one_hash_df['accident_count'], dtype=np.float16)\n",
    "X = np.array(one_hash_df.drop(columns=['hour', 'geohash5', 'accident_count', 'hour_of_day', 'day_of_week']), dtype=np.float16)\n",
    "\n",
    "# Split into train and test\n",
    "N = len(X)\n",
    "split_idx = int(0.8*N)\n",
    "X_train = X[:split_idx,:]\n",
    "y_train = y[:split_idx]\n",
    "X_test = X[split_idx:,:]\n",
    "y_test = y[split_idx:]\n",
    "\n",
    "print(' X_train:', X_train.shape, '\\n', 'X_test:', X_test.shape, '\\n', 'y_train:', y_train.shape, '\\n', 'y_test:', y_test.shape)"
   ]
  },
  {
   "cell_type": "code",
   "execution_count": 43,
   "metadata": {},
   "outputs": [],
   "source": [
    "# standardize input features\n",
    "X_train_mean = X_train.mean(axis=0)\n",
    "X_test_mean = X_test.mean(axis=0)\n",
    "\n",
    "X_train_std = X_train.std()\n",
    "X_test_std = X_test.std()\n",
    "\n",
    "X_train = (X_train - X_train_mean) / X_train_std\n",
    "X_est = (X_test - X_test_mean) / X_test_std"
   ]
  },
  {
   "cell_type": "code",
   "execution_count": 47,
   "metadata": {},
   "outputs": [],
   "source": [
    "def compute_error(trues, predicted):\n",
    "    corr = np.corrcoef(predicted, trues)[0,1]\n",
    "    mae = np.mean(np.abs(predicted - trues))\n",
    "    rae = np.sum(np.abs(predicted - trues)) / np.sum(np.abs(trues - np.mean(trues)))\n",
    "    rmse = np.sqrt(np.mean((predicted - trues)**2))\n",
    "    r2 = max(0, 1 - np.sum((trues-predicted)**2) / np.sum((trues - np.mean(trues))**2))\n",
    "    return corr, mae, rae, rmse, r2"
   ]
  },
  {
   "cell_type": "code",
   "execution_count": 48,
   "metadata": {},
   "outputs": [],
   "source": [
    "# Prepare data for Pyro model\n",
    "X_train_torch = torch.tensor(X_train).float()\n",
    "y_train_torch = torch.tensor(y_train).float()"
   ]
  },
  {
   "cell_type": "code",
   "execution_count": 49,
   "metadata": {},
   "outputs": [],
   "source": [
    "def poisson_model(X, obs=None):\n",
    "    alpha = pyro.sample(\"alpha\", dist.Normal(0., 1.))                   # Prior for the bias/intercept\n",
    "    beta  = pyro.sample(\"beta\", dist.Normal(torch.zeros(X.shape[1]), \n",
    "                                            torch.ones(X.shape[1])).to_event())    # Priors for the regression coeffcients\n",
    "    \n",
    "    with pyro.plate(\"data\"):\n",
    "        y = pyro.sample(\"y\", dist.Poisson(torch.exp(alpha + X.matmul(beta))), obs=obs)\n",
    "        \n",
    "    return y"
   ]
  },
  {
   "cell_type": "code",
   "execution_count": 60,
   "metadata": {},
   "outputs": [],
   "source": [
    "# Define guide function\n",
    "guide = AutoDiagonalNormal(poisson_model)\n",
    "\n",
    "# Reset parameter values\n",
    "pyro.clear_param_store()"
   ]
  },
  {
   "cell_type": "code",
   "execution_count": 62,
   "metadata": {},
   "outputs": [
    {
     "name": "stdout",
     "output_type": "stream",
     "text": [
      "[0] ELBO: 9258.0\n",
      "[500] ELBO: 7212.3\n",
      "[1000] ELBO: 6562.6\n",
      "[1500] ELBO: 6448.8\n",
      "[2000] ELBO: 6442.2\n",
      "[2500] ELBO: 6432.7\n",
      "[3000] ELBO: 6432.9\n",
      "[3500] ELBO: 6422.9\n",
      "[4000] ELBO: 6422.1\n",
      "[4500] ELBO: 6425.4\n",
      "[5000] ELBO: 6425.1\n",
      "[5500] ELBO: 6425.0\n",
      "[6000] ELBO: 6426.9\n",
      "[6500] ELBO: 6425.3\n",
      "[7000] ELBO: 6425.7\n",
      "[7500] ELBO: 6428.4\n",
      "[8000] ELBO: 6423.8\n",
      "[8500] ELBO: 6424.9\n",
      "[9000] ELBO: 6425.6\n",
      "[9500] ELBO: 6427.3\n"
     ]
    }
   ],
   "source": [
    "# Define the number of optimization steps\n",
    "n_steps = 10000\n",
    "\n",
    "# Setup the optimizer\n",
    "adam_params = {\"lr\": 0.001}\n",
    "optimizer = ClippedAdam(adam_params)\n",
    "\n",
    "# Setup the inference algorithm\n",
    "elbo = Trace_ELBO(num_particles=1)\n",
    "svi = SVI(poisson_model, guide, optimizer, loss=elbo)\n",
    "\n",
    "# Do gradient steps\n",
    "for step in range(n_steps):\n",
    "    elbo = svi.step(X_train_torch, y_train_torch)\n",
    "    if step % 500 == 0:\n",
    "        print(\"[%d] ELBO: %.1f\" % (step, elbo))"
   ]
  },
  {
   "cell_type": "code",
   "execution_count": 63,
   "metadata": {},
   "outputs": [],
   "source": [
    "predictive = Predictive(poisson_model, guide=guide, num_samples=1000,\n",
    "                        return_sites=(\"alpha\", \"beta\", \"sigma\"))\n",
    "samples = predictive(X_train_torch, y_train_torch)"
   ]
  },
  {
   "cell_type": "code",
   "execution_count": 64,
   "metadata": {},
   "outputs": [
    {
     "name": "stdout",
     "output_type": "stream",
     "text": [
      "CorrCoef: 0.155\n",
      "MAE: 0.741\n",
      "RMSE: 0.902\n",
      "R2: 0.000\n"
     ]
    }
   ],
   "source": [
    "alpha_samples = samples[\"alpha\"].detach().numpy()\n",
    "beta_samples = samples[\"beta\"].detach().numpy()\n",
    "y_hat = np.mean(np.exp(alpha_samples.T + np.dot(X_test, beta_samples[:,0].T)), axis=1)\n",
    "\n",
    "# convert back to the original scale\n",
    "preds = y_hat # no need to do any conversion here because the Poisson model received untransformed y's\n",
    "\n",
    "corr, mae, rae, rmse, r2 = compute_error(y_test, preds)\n",
    "print(\"CorrCoef: %.3f\\nMAE: %.3f\\nRMSE: %.3f\\nR2: %.3f\" % (corr, mae, rmse, r2))"
   ]
  },
  {
   "cell_type": "code",
   "execution_count": 65,
   "metadata": {},
   "outputs": [
    {
     "data": {
      "text/plain": [
       "[<matplotlib.lines.Line2D at 0x1d51326f9e0>]"
      ]
     },
     "execution_count": 65,
     "metadata": {},
     "output_type": "execute_result"
    },
    {
     "data": {
      "image/png": "[encoded data removed]",
      "text/plain": [
       "<Figure size 1600x1000 with 1 Axes>"
      ]
     },
     "metadata": {},
     "output_type": "display_data"
    }
   ],
   "source": [
    "plt.plot(y_test)\n",
    "plt.plot(y_hat)"
   ]
  },
  {
   "cell_type": "code",
   "execution_count": null,
   "metadata": {},
   "outputs": [],
   "source": []
  }
 ],
 "metadata": {
  "kernelspec": {
   "display_name": "mb_ml",
   "language": "python",
   "name": "python3"
  },
  "language_info": {
   "codemirror_mode": {
    "name": "ipython",
    "version": 3
   },
   "file_extension": ".py",
   "mimetype": "text/x-python",
   "name": "python",
   "nbconvert_exporter": "python",
   "pygments_lexer": "ipython3",
   "version": "3.12.1"
  }
 },
 "nbformat": 4,
 "nbformat_minor": 2
}
